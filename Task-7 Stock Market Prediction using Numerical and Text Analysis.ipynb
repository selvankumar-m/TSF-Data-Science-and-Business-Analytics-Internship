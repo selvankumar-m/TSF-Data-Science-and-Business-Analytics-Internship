{
  "nbformat": 4,
  "nbformat_minor": 0,
  "metadata": {
    "kernelspec": {
      "display_name": "Python 3",
      "language": "python",
      "name": "python3"
    },
    "language_info": {
      "codemirror_mode": {
        "name": "ipython",
        "version": 3
      },
      "file_extension": ".py",
      "mimetype": "text/x-python",
      "name": "python",
      "nbconvert_exporter": "python",
      "pygments_lexer": "ipython3",
      "version": "3.7.1"
    },
    "colab": {
      "name": "Task-7 Stock Market Prediction using Numerical and Text Analysis.ipynb",
      "provenance": []
    }
  },
  "cells": [
    {
      "cell_type": "markdown",
      "metadata": {
        "id": "FXLb5rKJVsCA"
      },
      "source": [
        "# <center>Data Science and Business Analytics\n",
        "## <center>Task-7 : Stock Market Prediction using Numerical and Textual Analysis\n",
        "### Name : Selvan Kumar M"
      ]
    },
    {
      "cell_type": "markdown",
      "metadata": {
        "id": "sIHKhOa-Wp-C"
      },
      "source": [
        "## Getting Data"
      ]
    },
    {
      "cell_type": "code",
      "metadata": {
        "id": "3l0Jj_-1VsCD"
      },
      "source": [
        "import pandas_datareader as pdr"
      ],
      "execution_count": null,
      "outputs": []
    },
    {
      "cell_type": "code",
      "metadata": {
        "id": "h4LWuKy-VsCE"
      },
      "source": [
        "import os\n",
        "\n",
        "df=pdr.get_data_yahoo('ibm',start='2017-01-1',end='2020-12-15')"
      ],
      "execution_count": null,
      "outputs": []
    },
    {
      "cell_type": "code",
      "metadata": {
        "colab": {
          "base_uri": "https://localhost:8080/",
          "height": 235
        },
        "id": "L8TgGaGSVsCE",
        "outputId": "a4cdb7d6-e300-4398-fd1d-77355a3a2d28"
      },
      "source": [
        "df.head()"
      ],
      "execution_count": null,
      "outputs": [
        {
          "output_type": "execute_result",
          "data": {
            "text/html": [
              "<div>\n",
              "<style scoped>\n",
              "    .dataframe tbody tr th:only-of-type {\n",
              "        vertical-align: middle;\n",
              "    }\n",
              "\n",
              "    .dataframe tbody tr th {\n",
              "        vertical-align: top;\n",
              "    }\n",
              "\n",
              "    .dataframe thead th {\n",
              "        text-align: right;\n",
              "    }\n",
              "</style>\n",
              "<table border=\"1\" class=\"dataframe\">\n",
              "  <thead>\n",
              "    <tr style=\"text-align: right;\">\n",
              "      <th></th>\n",
              "      <th>High</th>\n",
              "      <th>Low</th>\n",
              "      <th>Open</th>\n",
              "      <th>Close</th>\n",
              "      <th>Volume</th>\n",
              "      <th>Adj Close</th>\n",
              "    </tr>\n",
              "    <tr>\n",
              "      <th>Date</th>\n",
              "      <th></th>\n",
              "      <th></th>\n",
              "      <th></th>\n",
              "      <th></th>\n",
              "      <th></th>\n",
              "      <th></th>\n",
              "    </tr>\n",
              "  </thead>\n",
              "  <tbody>\n",
              "    <tr>\n",
              "      <th>2017-01-03</th>\n",
              "      <td>167.869995</td>\n",
              "      <td>166.009995</td>\n",
              "      <td>167.000000</td>\n",
              "      <td>167.190002</td>\n",
              "      <td>2934300.0</td>\n",
              "      <td>139.613220</td>\n",
              "    </tr>\n",
              "    <tr>\n",
              "      <th>2017-01-04</th>\n",
              "      <td>169.869995</td>\n",
              "      <td>167.360001</td>\n",
              "      <td>167.770004</td>\n",
              "      <td>169.259995</td>\n",
              "      <td>3381400.0</td>\n",
              "      <td>141.341766</td>\n",
              "    </tr>\n",
              "    <tr>\n",
              "      <th>2017-01-05</th>\n",
              "      <td>169.389999</td>\n",
              "      <td>167.259995</td>\n",
              "      <td>169.250000</td>\n",
              "      <td>168.699997</td>\n",
              "      <td>2682300.0</td>\n",
              "      <td>140.874130</td>\n",
              "    </tr>\n",
              "    <tr>\n",
              "      <th>2017-01-06</th>\n",
              "      <td>169.919998</td>\n",
              "      <td>167.520004</td>\n",
              "      <td>168.690002</td>\n",
              "      <td>169.529999</td>\n",
              "      <td>2945500.0</td>\n",
              "      <td>141.567230</td>\n",
              "    </tr>\n",
              "    <tr>\n",
              "      <th>2017-01-09</th>\n",
              "      <td>169.800003</td>\n",
              "      <td>167.619995</td>\n",
              "      <td>169.470001</td>\n",
              "      <td>167.649994</td>\n",
              "      <td>3189900.0</td>\n",
              "      <td>139.997330</td>\n",
              "    </tr>\n",
              "  </tbody>\n",
              "</table>\n",
              "</div>"
            ],
            "text/plain": [
              "                  High         Low  ...     Volume   Adj Close\n",
              "Date                                ...                       \n",
              "2017-01-03  167.869995  166.009995  ...  2934300.0  139.613220\n",
              "2017-01-04  169.869995  167.360001  ...  3381400.0  141.341766\n",
              "2017-01-05  169.389999  167.259995  ...  2682300.0  140.874130\n",
              "2017-01-06  169.919998  167.520004  ...  2945500.0  141.567230\n",
              "2017-01-09  169.800003  167.619995  ...  3189900.0  139.997330\n",
              "\n",
              "[5 rows x 6 columns]"
            ]
          },
          "metadata": {
            "tags": []
          },
          "execution_count": 3
        }
      ]
    },
    {
      "cell_type": "code",
      "metadata": {
        "id": "I3wAdWeMVsCF"
      },
      "source": [
        "# Downloding data\r\n",
        "df.to_csv('ibm.csv')"
      ],
      "execution_count": null,
      "outputs": []
    },
    {
      "cell_type": "markdown",
      "metadata": {
        "id": "iXb-OyoqW-Ue"
      },
      "source": [
        "## Packages"
      ]
    },
    {
      "cell_type": "code",
      "metadata": {
        "id": "Ck0FoOqKVsCG"
      },
      "source": [
        "import pandas as pd\n",
        "import numpy as np\n",
        "import matplotlib.pyplot as plt"
      ],
      "execution_count": null,
      "outputs": []
    },
    {
      "cell_type": "markdown",
      "metadata": {
        "id": "cXuURvP8XHuL"
      },
      "source": [
        "## Data"
      ]
    },
    {
      "cell_type": "code",
      "metadata": {
        "id": "kWSDYE7QVsCG"
      },
      "source": [
        "data = pd.read_csv('ibm.csv')"
      ],
      "execution_count": null,
      "outputs": []
    },
    {
      "cell_type": "code",
      "metadata": {
        "colab": {
          "base_uri": "https://localhost:8080/",
          "height": 204
        },
        "id": "PDmFaw6QVsCH",
        "outputId": "57c29b94-223b-40f5-c6f0-b217024e232e"
      },
      "source": [
        "data.head()"
      ],
      "execution_count": null,
      "outputs": [
        {
          "output_type": "execute_result",
          "data": {
            "text/html": [
              "<div>\n",
              "<style scoped>\n",
              "    .dataframe tbody tr th:only-of-type {\n",
              "        vertical-align: middle;\n",
              "    }\n",
              "\n",
              "    .dataframe tbody tr th {\n",
              "        vertical-align: top;\n",
              "    }\n",
              "\n",
              "    .dataframe thead th {\n",
              "        text-align: right;\n",
              "    }\n",
              "</style>\n",
              "<table border=\"1\" class=\"dataframe\">\n",
              "  <thead>\n",
              "    <tr style=\"text-align: right;\">\n",
              "      <th></th>\n",
              "      <th>Date</th>\n",
              "      <th>High</th>\n",
              "      <th>Low</th>\n",
              "      <th>Open</th>\n",
              "      <th>Close</th>\n",
              "      <th>Volume</th>\n",
              "      <th>Adj Close</th>\n",
              "    </tr>\n",
              "  </thead>\n",
              "  <tbody>\n",
              "    <tr>\n",
              "      <th>0</th>\n",
              "      <td>2017-01-03</td>\n",
              "      <td>167.869995</td>\n",
              "      <td>166.009995</td>\n",
              "      <td>167.000000</td>\n",
              "      <td>167.190002</td>\n",
              "      <td>2934300.0</td>\n",
              "      <td>139.613220</td>\n",
              "    </tr>\n",
              "    <tr>\n",
              "      <th>1</th>\n",
              "      <td>2017-01-04</td>\n",
              "      <td>169.869995</td>\n",
              "      <td>167.360001</td>\n",
              "      <td>167.770004</td>\n",
              "      <td>169.259995</td>\n",
              "      <td>3381400.0</td>\n",
              "      <td>141.341766</td>\n",
              "    </tr>\n",
              "    <tr>\n",
              "      <th>2</th>\n",
              "      <td>2017-01-05</td>\n",
              "      <td>169.389999</td>\n",
              "      <td>167.259995</td>\n",
              "      <td>169.250000</td>\n",
              "      <td>168.699997</td>\n",
              "      <td>2682300.0</td>\n",
              "      <td>140.874130</td>\n",
              "    </tr>\n",
              "    <tr>\n",
              "      <th>3</th>\n",
              "      <td>2017-01-06</td>\n",
              "      <td>169.919998</td>\n",
              "      <td>167.520004</td>\n",
              "      <td>168.690002</td>\n",
              "      <td>169.529999</td>\n",
              "      <td>2945500.0</td>\n",
              "      <td>141.567230</td>\n",
              "    </tr>\n",
              "    <tr>\n",
              "      <th>4</th>\n",
              "      <td>2017-01-09</td>\n",
              "      <td>169.800003</td>\n",
              "      <td>167.619995</td>\n",
              "      <td>169.470001</td>\n",
              "      <td>167.649994</td>\n",
              "      <td>3189900.0</td>\n",
              "      <td>139.997330</td>\n",
              "    </tr>\n",
              "  </tbody>\n",
              "</table>\n",
              "</div>"
            ],
            "text/plain": [
              "         Date        High         Low  ...       Close     Volume   Adj Close\n",
              "0  2017-01-03  167.869995  166.009995  ...  167.190002  2934300.0  139.613220\n",
              "1  2017-01-04  169.869995  167.360001  ...  169.259995  3381400.0  141.341766\n",
              "2  2017-01-05  169.389999  167.259995  ...  168.699997  2682300.0  140.874130\n",
              "3  2017-01-06  169.919998  167.520004  ...  169.529999  2945500.0  141.567230\n",
              "4  2017-01-09  169.800003  167.619995  ...  167.649994  3189900.0  139.997330\n",
              "\n",
              "[5 rows x 7 columns]"
            ]
          },
          "metadata": {
            "tags": []
          },
          "execution_count": 7
        }
      ]
    },
    {
      "cell_type": "code",
      "metadata": {
        "id": "I8XzyPboVsCH"
      },
      "source": [
        "data1=data.reset_index()['Close']"
      ],
      "execution_count": null,
      "outputs": []
    },
    {
      "cell_type": "code",
      "metadata": {
        "colab": {
          "base_uri": "https://localhost:8080/"
        },
        "id": "86mrD9lkVsCI",
        "outputId": "e347f5a0-f524-4ae5-d8c8-c56a17f01ac6"
      },
      "source": [
        "data1"
      ],
      "execution_count": null,
      "outputs": [
        {
          "output_type": "execute_result",
          "data": {
            "text/plain": [
              "0      167.190002\n",
              "1      169.259995\n",
              "2      168.699997\n",
              "3      169.529999\n",
              "4      167.649994\n",
              "          ...    \n",
              "991    126.790001\n",
              "992    124.959999\n",
              "993    124.269997\n",
              "994    123.529999\n",
              "995    125.930000\n",
              "Name: Close, Length: 996, dtype: float64"
            ]
          },
          "metadata": {
            "tags": []
          },
          "execution_count": 9
        }
      ]
    },
    {
      "cell_type": "markdown",
      "metadata": {
        "id": "tGdwRd0vXNJm"
      },
      "source": [
        "## Visuvalization"
      ]
    },
    {
      "cell_type": "code",
      "metadata": {
        "id": "ANb57QaTVsCI"
      },
      "source": [
        "from matplotlib import style\r\n",
        "plt.style.use(['dark_background'])"
      ],
      "execution_count": null,
      "outputs": []
    },
    {
      "cell_type": "code",
      "metadata": {
        "colab": {
          "base_uri": "https://localhost:8080/",
          "height": 265
        },
        "id": "niBHKG-wbPCM",
        "outputId": "1fc5d08d-d894-4469-a6a4-69c4c30b4ff1"
      },
      "source": [
        "plt.plot(data1);"
      ],
      "execution_count": null,
      "outputs": [
        {
          "output_type": "display_data",
          "data": {
            "image/png": "[encoded data removed]",
            "text/plain": [
              "<Figure size 432x288 with 1 Axes>"
            ]
          },
          "metadata": {
            "tags": []
          }
        }
      ]
    },
    {
      "cell_type": "code",
      "metadata": {
        "colab": {
          "base_uri": "https://localhost:8080/"
        },
        "id": "XIMZlpP7VsCJ",
        "outputId": "5b0d327d-e0d0-4983-db5a-4448d5b7d618"
      },
      "source": [
        "data1"
      ],
      "execution_count": null,
      "outputs": [
        {
          "output_type": "execute_result",
          "data": {
            "text/plain": [
              "0      167.190002\n",
              "1      169.259995\n",
              "2      168.699997\n",
              "3      169.529999\n",
              "4      167.649994\n",
              "          ...    \n",
              "991    126.790001\n",
              "992    124.959999\n",
              "993    124.269997\n",
              "994    123.529999\n",
              "995    125.930000\n",
              "Name: Close, Length: 996, dtype: float64"
            ]
          },
          "metadata": {
            "tags": []
          },
          "execution_count": 12
        }
      ]
    },
    {
      "cell_type": "markdown",
      "metadata": {
        "id": "MgH9Eze7XR83"
      },
      "source": [
        "## Preprocessing"
      ]
    },
    {
      "cell_type": "code",
      "metadata": {
        "id": "ZAHXoBz8VsCJ"
      },
      "source": [
        "from sklearn.preprocessing import MinMaxScaler\n",
        "scaler=MinMaxScaler(feature_range=(0,1))\n",
        "data1=scaler.fit_transform(np.array(data1).reshape(-1,1))"
      ],
      "execution_count": null,
      "outputs": []
    },
    {
      "cell_type": "code",
      "metadata": {
        "colab": {
          "base_uri": "https://localhost:8080/"
        },
        "id": "_F4639aUVsCK",
        "outputId": "c207430a-187a-4c34-cbe2-e41010d191f7"
      },
      "source": [
        "print(data1)"
      ],
      "execution_count": null,
      "outputs": [
        {
          "output_type": "stream",
          "text": [
            "[[0.83069518]\n",
            " [0.85443906]\n",
            " [0.8480156 ]\n",
            " [0.85753615]\n",
            " [0.83597152]\n",
            " [0.81153943]\n",
            " [0.83711864]\n",
            " [0.83941271]\n",
            " [0.83241569]\n",
            " [0.83872451]\n",
            " [0.82622168]\n",
            " [0.82633632]\n",
            " [0.86923613]\n",
            " [0.87474193]\n",
            " [0.93060331]\n",
            " [0.95801785]\n",
            " [0.96226206]\n",
            " [0.94666215]\n",
            " [0.92945637]\n",
            " [0.91477412]\n",
            " [0.91213577]\n",
            " [0.91546232]\n",
            " [0.92968583]\n",
            " [0.93014457]\n",
            " [0.95996799]\n",
            " [0.9337004 ]\n",
            " [0.94562984]\n",
            " [0.96249135]\n",
            " [0.97029139]\n",
            " [0.97912374]\n",
            " [0.99690291]\n",
            " [0.99403528]\n",
            " [0.98531775]\n",
            " [0.98061479]\n",
            " [0.99082355]\n",
            " [0.99655881]\n",
            " [0.99311779]\n",
            " [0.97075014]\n",
            " [0.97556791]\n",
            " [1.        ]\n",
            " [0.98371188]\n",
            " [0.97820608]\n",
            " [0.98302368]\n",
            " [0.98199137]\n",
            " [0.9713237 ]\n",
            " [0.94528557]\n",
            " [0.95274151]\n",
            " [0.93702695]\n",
            " [0.9285387 ]\n",
            " [0.92957101]\n",
            " [0.94597395]\n",
            " [0.92773568]\n",
            " [0.92830925]\n",
            " [0.90743299]\n",
            " [0.91775639]\n",
            " [0.91821531]\n",
            " [0.90685943]\n",
            " [0.90617122]\n",
            " [0.9146593 ]\n",
            " [0.90812119]\n",
            " [0.90720353]\n",
            " [0.91041526]\n",
            " [0.91454466]\n",
            " [0.91477412]\n",
            " [0.89596247]\n",
            " [0.89103005]\n",
            " [0.88747422]\n",
            " [0.8766919 ]\n",
            " [0.86958024]\n",
            " [0.8704979 ]\n",
            " [0.85753615]\n",
            " [0.87554496]\n",
            " [0.86350087]\n",
            " [0.76760731]\n",
            " [0.77460434]\n",
            " [0.75258096]\n",
            " [0.756825  ]\n",
            " [0.7526956 ]\n",
            " [0.74891031]\n",
            " [0.75189276]\n",
            " [0.75154848]\n",
            " [0.73491626]\n",
            " [0.73789871]\n",
            " [0.73250755]\n",
            " [0.73732515]\n",
            " [0.69144306]\n",
            " [0.66827256]\n",
            " [0.6577197 ]\n",
            " [0.64785505]\n",
            " [0.64097267]\n",
            " [0.63776093]\n",
            " [0.65083732]\n",
            " [0.67572833]\n",
            " [0.6441844 ]\n",
            " [0.64246389]\n",
            " [0.65622848]\n",
            " [0.66379907]\n",
            " [0.65680204]\n",
            " [0.66230784]\n",
            " [0.67022253]\n",
            " [0.66207856]\n",
            " [0.65336085]\n",
            " [0.66368442]\n",
            " [0.66414317]\n",
            " [0.6570315 ]\n",
            " [0.66116089]\n",
            " [0.66070198]\n",
            " [0.64475796]\n",
            " [0.65760506]\n",
            " [0.6805461 ]\n",
            " [0.69293411]\n",
            " [0.68226661]\n",
            " [0.67721955]\n",
            " [0.68192251]\n",
            " [0.69522836]\n",
            " [0.68903418]\n",
            " [0.69029594]\n",
            " [0.67699009]\n",
            " [0.68398712]\n",
            " [0.68066075]\n",
            " [0.69350767]\n",
            " [0.68800187]\n",
            " [0.69454015]\n",
            " [0.6808902 ]\n",
            " [0.67744901]\n",
            " [0.69752242]\n",
            " [0.67561369]\n",
            " [0.66058733]\n",
            " [0.66724026]\n",
            " [0.67274606]\n",
            " [0.67010789]\n",
            " [0.67595779]\n",
            " [0.67515494]\n",
            " [0.68215197]\n",
            " [0.6680431 ]\n",
            " [0.67939898]\n",
            " [0.6051847 ]\n",
            " [0.60667592]\n",
            " [0.600023  ]\n",
            " [0.58752017]\n",
            " [0.58981424]\n",
            " [0.58029369]\n",
            " [0.57696731]\n",
            " [0.56802015]\n",
            " [0.572379  ]\n",
            " [0.57960549]\n",
            " [0.56985547]\n",
            " [0.57547609]\n",
            " [0.57799962]\n",
            " [0.55861441]\n",
            " [0.5430145 ]\n",
            " [0.53911456]\n",
            " [0.53991741]\n",
            " [0.53991741]\n",
            " [0.54542338]\n",
            " [0.54255575]\n",
            " [0.54748799]\n",
            " [0.52684102]\n",
            " [0.5153705 ]\n",
            " [0.52259698]\n",
            " [0.53039685]\n",
            " [0.5433586 ]\n",
            " [0.55253505]\n",
            " [0.5617115 ]\n",
            " [0.54760263]\n",
            " [0.55482912]\n",
            " [0.5481762 ]\n",
            " [0.55356735]\n",
            " [0.56561144]\n",
            " [0.553682  ]\n",
            " [0.56262916]\n",
            " [0.55207613]\n",
            " [0.54691443]\n",
            " [0.57455843]\n",
            " [0.58488183]\n",
            " [0.58752017]\n",
            " [0.5823583 ]\n",
            " [0.57409968]\n",
            " [0.5710026 ]\n",
            " [0.56916727]\n",
            " [0.58625841]\n",
            " [0.57914657]\n",
            " [0.57765552]\n",
            " [0.58614359]\n",
            " [0.59405828]\n",
            " [0.58373488]\n",
            " [0.58373488]\n",
            " [0.57708196]\n",
            " [0.5952054 ]\n",
            " [0.59658181]\n",
            " [0.59314062]\n",
            " [0.5958936 ]\n",
            " [0.59314062]\n",
            " [0.60357883]\n",
            " [0.61631112]\n",
            " [0.606217  ]\n",
            " [0.59944944]\n",
            " [0.60025246]\n",
            " [0.59715537]\n",
            " [0.59382882]\n",
            " [0.74283095]\n",
            " [0.7585455 ]\n",
            " [0.77196617]\n",
            " [0.74306041]\n",
            " [0.70096362]\n",
            " [0.67366372]\n",
            " [0.67481084]\n",
            " [0.67572833]\n",
            " [0.68352838]\n",
            " [0.68008718]\n",
            " [0.67974308]\n",
            " [0.67194321]\n",
            " [0.65164034]\n",
            " [0.64315209]\n",
            " [0.64900217]\n",
            " [0.6515257 ]\n",
            " [0.63695809]\n",
            " [0.6238817 ]\n",
            " [0.61516399]\n",
            " [0.62078461]\n",
            " [0.60025246]\n",
            " [0.62342278]\n",
            " [0.62170228]\n",
            " [0.6393668 ]\n",
            " [0.65588438]\n",
            " [0.65381977]\n",
            " [0.65462261]\n",
            " [0.65622848]\n",
            " [0.6618491 ]\n",
            " [0.67423728]\n",
            " [0.67905488]\n",
            " [0.68811651]\n",
            " [0.70761654]\n",
            " [0.69488425]\n",
            " [0.6805461 ]\n",
            " [0.67446674]\n",
            " [0.68869007]\n",
            " [0.69557246]\n",
            " [0.71082827]\n",
            " [0.67836668]\n",
            " [0.67939898]\n",
            " [0.6621932 ]\n",
            " [0.67171375]\n",
            " [0.67056663]\n",
            " [0.6673549 ]\n",
            " [0.65072268]\n",
            " [0.6621932 ]\n",
            " [0.66597849]\n",
            " [0.66941968]\n",
            " [0.67985772]\n",
            " [0.67274606]\n",
            " [0.68226661]\n",
            " [0.73090168]\n",
            " [0.76772196]\n",
            " [0.77678376]\n",
            " [0.78802483]\n",
            " [0.79215422]\n",
            " [0.7961688 ]\n",
            " [0.79639826]\n",
            " [0.78423953]\n",
            " [0.79238368]\n",
            " [0.84744204]\n",
            " [0.8528332 ]\n",
            " [0.77540718]\n",
            " [0.77804553]\n",
            " [0.81991286]\n",
            " [0.80981875]\n",
            " [0.81096587]\n",
            " [0.83241569]\n",
            " [0.82622168]\n",
            " [0.78974533]\n",
            " [0.790663  ]\n",
            " [0.77575128]\n",
            " [0.73709569]\n",
            " [0.6625373 ]\n",
            " [0.69476944]\n",
            " [0.67767847]\n",
            " [0.6058729 ]\n",
            " [0.62789628]\n",
            " [0.64957556]\n",
            " [0.64211979]\n",
            " [0.68811651]\n",
            " [0.70245466]\n",
            " [0.70440463]\n",
            " [0.69270483]\n",
            " [0.67894024]\n",
            " [0.66999307]\n",
            " [0.69683422]\n",
            " [0.73193399]\n",
            " [0.70864884]\n",
            " [0.70039005]\n",
            " [0.67721955]\n",
            " [0.6850196 ]\n",
            " [0.71323698]\n",
            " [0.69912829]\n",
            " [0.72895171]\n",
            " [0.70474891]\n",
            " [0.74030742]\n",
            " [0.75120438]\n",
            " [0.74042224]\n",
            " [0.72665747]\n",
            " [0.74374861]\n",
            " [0.75120438]\n",
            " [0.7178253 ]\n",
            " [0.70463409]\n",
            " [0.71025471]\n",
            " [0.65749024]\n",
            " [0.62078461]\n",
            " [0.6721725 ]\n",
            " [0.65542563]\n",
            " [0.66242266]\n",
            " [0.6728607 ]\n",
            " [0.63431992]\n",
            " [0.63179639]\n",
            " [0.68077539]\n",
            " [0.67974308]\n",
            " [0.64005518]\n",
            " [0.66437263]\n",
            " [0.695343  ]\n",
            " [0.6949989 ]\n",
            " [0.72608408]\n",
            " [0.71048417]\n",
            " [0.7240193 ]\n",
            " [0.75866032]\n",
            " [0.61963749]\n",
            " [0.60713467]\n",
            " [0.57501717]\n",
            " [0.58602895]\n",
            " [0.58258776]\n",
            " [0.58694661]\n",
            " [0.5958936 ]\n",
            " [0.59314062]\n",
            " [0.57570555]\n",
            " [0.57616429]\n",
            " [0.54691443]\n",
            " [0.54163809]\n",
            " [0.56366147]\n",
            " [0.55574678]\n",
            " [0.55322325]\n",
            " [0.54874976]\n",
            " [0.56744676]\n",
            " [0.56629964]\n",
            " [0.56813496]\n",
            " [0.5617115 ]\n",
            " [0.57192026]\n",
            " [0.57042903]\n",
            " [0.56561144]\n",
            " [0.58178491]\n",
            " [0.5771966 ]\n",
            " [0.572379  ]\n",
            " [0.56549679]\n",
            " [0.56056438]\n",
            " [0.53280574]\n",
            " [0.5488644 ]\n",
            " [0.53383804]\n",
            " [0.54117917]\n",
            " [0.553682  ]\n",
            " [0.56125258]\n",
            " [0.57283792]\n",
            " [0.58029369]\n",
            " [0.58924068]\n",
            " [0.59428774]\n",
            " [0.59761411]\n",
            " [0.59164957]\n",
            " [0.57845836]\n",
            " [0.58063779]\n",
            " [0.57019957]\n",
            " [0.56354665]\n",
            " [0.54897922]\n",
            " [0.53314984]\n",
            " [0.53349394]\n",
            " [0.50493228]\n",
            " [0.50825883]\n",
            " [0.48990593]\n",
            " [0.51927043]\n",
            " [0.5153705 ]\n",
            " [0.51720582]\n",
            " [0.51387945]\n",
            " [0.53521445]\n",
            " [0.54725853]\n",
            " [0.56916727]\n",
            " [0.57283792]\n",
            " [0.57547609]\n",
            " [0.59279651]\n",
            " [0.58648769]\n",
            " [0.58144081]\n",
            " [0.55884387]\n",
            " [0.57065849]\n",
            " [0.62479937]\n",
            " [0.59164957]\n",
            " [0.58419362]\n",
            " [0.59199367]\n",
            " [0.59474648]\n",
            " [0.59577896]\n",
            " [0.5778848 ]\n",
            " [0.58178491]\n",
            " [0.57536127]\n",
            " [0.55895851]\n",
            " [0.55276451]\n",
            " [0.60713467]\n",
            " [0.58797892]\n",
            " [0.59921998]\n",
            " [0.59784357]\n",
            " [0.57352612]\n",
            " [0.57019957]\n",
            " [0.54989688]\n",
            " [0.55735265]\n",
            " [0.56366147]\n",
            " [0.58006423]\n",
            " [0.58832302]\n",
            " [0.59348472]\n",
            " [0.58729071]\n",
            " [0.57891728]\n",
            " [0.58040833]\n",
            " [0.58809356]\n",
            " [0.5955495 ]\n",
            " [0.59440238]\n",
            " [0.60529934]\n",
            " [0.58683179]\n",
            " [0.59314062]\n",
            " [0.58396416]\n",
            " [0.5952054 ]\n",
            " [0.59210831]\n",
            " [0.58132599]\n",
            " [0.58362006]\n",
            " [0.59325543]\n",
            " [0.5941731 ]\n",
            " [0.62147282]\n",
            " [0.61436115]\n",
            " [0.60988765]\n",
            " [0.61699932]\n",
            " [0.62273458]\n",
            " [0.64670793]\n",
            " [0.64900217]\n",
            " [0.633861  ]\n",
            " [0.62101407]\n",
            " [0.65198444]\n",
            " [0.65072268]\n",
            " [0.64739631]\n",
            " [0.66792846]\n",
            " [0.67653135]\n",
            " [0.67045199]\n",
            " [0.64854325]\n",
            " [0.62239048]\n",
            " [0.61504935]\n",
            " [0.60185832]\n",
            " [0.54966742]\n",
            " [0.50757063]\n",
            " [0.5285617 ]\n",
            " [0.53177344]\n",
            " [0.5775407 ]\n",
            " [0.45056213]\n",
            " [0.4104153 ]\n",
            " [0.39378308]\n",
            " [0.40433594]\n",
            " [0.41798589]\n",
            " [0.37210372]\n",
            " [0.3633861 ]\n",
            " [0.34434508]\n",
            " [0.28527188]\n",
            " [0.2366369 ]\n",
            " [0.236981  ]\n",
            " [0.25303975]\n",
            " [0.2397339 ]\n",
            " [0.29008948]\n",
            " [0.32518933]\n",
            " [0.34491855]\n",
            " [0.3281716 ]\n",
            " [0.33000693]\n",
            " [0.29972476]\n",
            " [0.29903647]\n",
            " [0.29169535]\n",
            " [0.30591885]\n",
            " [0.30740999]\n",
            " [0.29295711]\n",
            " [0.25728378]\n",
            " [0.27299843]\n",
            " [0.25716914]\n",
            " [0.28435422]\n",
            " [0.28974538]\n",
            " [0.32381284]\n",
            " [0.30637769]\n",
            " [0.33838036]\n",
            " [0.35030971]\n",
            " [0.30775409]\n",
            " [0.33425105]\n",
            " [0.28183069]\n",
            " [0.30236293]\n",
            " [0.29961003]\n",
            " [0.30270712]\n",
            " [0.29777479]\n",
            " [0.28825424]\n",
            " [0.24466623]\n",
            " [0.25097505]\n",
            " [0.24845152]\n",
            " [0.209337  ]\n",
            " [0.18547839]\n",
            " [0.1468227 ]\n",
            " [0.19064009]\n",
            " [0.21805462]\n",
            " [0.20945173]\n",
            " [0.21679286]\n",
            " [0.23445747]\n",
            " [0.20807533]\n",
            " [0.25866028]\n",
            " [0.26818083]\n",
            " [0.28745131]\n",
            " [0.29731596]\n",
            " [0.30993352]\n",
            " [0.30614823]\n",
            " [0.29387477]\n",
            " [0.30924532]\n",
            " [0.30798355]\n",
            " [0.31452174]\n",
            " [0.33321866]\n",
            " [0.31830695]\n",
            " [0.43725628]\n",
            " [0.43312689]\n",
            " [0.44964446]\n",
            " [0.45308566]\n",
            " [0.45377386]\n",
            " [0.45434742]\n",
            " [0.45480616]\n",
            " [0.45113569]\n",
            " [0.46363851]\n",
            " [0.46776791]\n",
            " [0.47660026]\n",
            " [0.44069747]\n",
            " [0.44666219]\n",
            " [0.44987392]\n",
            " [0.47350317]\n",
            " [0.49036485]\n",
            " [0.47843541]\n",
            " [0.49621475]\n",
            " [0.50389998]\n",
            " [0.49587065]\n",
            " [0.49403532]\n",
            " [0.5102088 ]\n",
            " [0.51261769]\n",
            " [0.51559996]\n",
            " [0.50929114]\n",
            " [0.49736187]\n",
            " [0.50963524]\n",
            " [0.50080289]\n",
            " [0.49449424]\n",
            " [0.48417067]\n",
            " [0.46558848]\n",
            " [0.46249139]\n",
            " [0.49254428]\n",
            " [0.49908238]\n",
            " [0.50229411]\n",
            " [0.50493228]\n",
            " [0.51227341]\n",
            " [0.52122058]\n",
            " [0.52443231]\n",
            " [0.51422355]\n",
            " [0.53532927]\n",
            " [0.51250287]\n",
            " [0.50940578]\n",
            " [0.52133522]\n",
            " [0.51009416]\n",
            " [0.51789403]\n",
            " [0.53142933]\n",
            " [0.55666444]\n",
            " [0.55322325]\n",
            " [0.56044974]\n",
            " [0.55069972]\n",
            " [0.55643498]\n",
            " [0.55769675]\n",
            " [0.5430145 ]\n",
            " [0.55345271]\n",
            " [0.56217025]\n",
            " [0.56870853]\n",
            " [0.56354665]\n",
            " [0.57777016]\n",
            " [0.50860293]\n",
            " [0.52259698]\n",
            " [0.50607941]\n",
            " [0.52385875]\n",
            " [0.51823813]\n",
            " [0.50309713]\n",
            " [0.51238823]\n",
            " [0.50791473]\n",
            " [0.52190878]\n",
            " [0.52523515]\n",
            " [0.51410874]\n",
            " [0.52167932]\n",
            " [0.52317054]\n",
            " [0.49174125]\n",
            " [0.49587065]\n",
            " [0.46535902]\n",
            " [0.46512974]\n",
            " [0.4203946 ]\n",
            " [0.44207388]\n",
            " [0.4545767 ]\n",
            " [0.4715532 ]\n",
            " [0.45365922]\n",
            " [0.46283549]\n",
            " [0.47809131]\n",
            " [0.47694436]\n",
            " [0.43152102]\n",
            " [0.43025926]\n",
            " [0.409383  ]\n",
            " [0.40055065]\n",
            " [0.39917424]\n",
            " [0.36958019]\n",
            " [0.38426253]\n",
            " [0.43496221]\n",
            " [0.42119762]\n",
            " [0.42957105]\n",
            " [0.44207388]\n",
            " [0.45847681]\n",
            " [0.47235605]\n",
            " [0.45996786]\n",
            " [0.47017662]\n",
            " [0.4631796 ]\n",
            " [0.46088553]\n",
            " [0.47728846]\n",
            " [0.48531779]\n",
            " [0.50562066]\n",
            " [0.50963524]\n",
            " [0.51135592]\n",
            " [0.50000004]\n",
            " [0.50183537]\n",
            " [0.50183537]\n",
            " [0.49472353]\n",
            " [0.51743528]\n",
            " [0.52133522]\n",
            " [0.53647622]\n",
            " [0.53464107]\n",
            " [0.52534997]\n",
            " [0.51112646]\n",
            " [0.52420285]\n",
            " [0.5330352 ]\n",
            " [0.55024098]\n",
            " [0.5568939 ]\n",
            " [0.55930261]\n",
            " [0.55402627]\n",
            " [0.62927286]\n",
            " [0.62984625]\n",
            " [0.63053463]\n",
            " [0.63787575]\n",
            " [0.633861  ]\n",
            " [0.63799039]\n",
            " [0.64911681]\n",
            " [0.64361101]\n",
            " [0.63087873]\n",
            " [0.61332884]\n",
            " [0.63718755]\n",
            " [0.60197297]\n",
            " [0.52752922]\n",
            " [0.52718512]\n",
            " [0.50860293]\n",
            " [0.51995881]\n",
            " [0.47442083]\n",
            " [0.45136497]\n",
            " [0.47052072]\n",
            " [0.41844463]\n",
            " [0.42612986]\n",
            " [0.44723558]\n",
            " [0.46191783]\n",
            " [0.43851805]\n",
            " [0.4528562 ]\n",
            " [0.45365922]\n",
            " [0.39917424]\n",
            " [0.40399184]\n",
            " [0.41752697]\n",
            " [0.43576506]\n",
            " [0.46008268]\n",
            " [0.46753845]\n",
            " [0.45113569]\n",
            " [0.47660026]\n",
            " [0.52993811]\n",
            " [0.52534997]\n",
            " [0.54863511]\n",
            " [0.57673786]\n",
            " [0.56010564]\n",
            " [0.56033492]\n",
            " [0.56090848]\n",
            " [0.54725853]\n",
            " [0.5440468 ]\n",
            " [0.54427626]\n",
            " [0.55287915]\n",
            " [0.54037633]\n",
            " [0.54255575]\n",
            " [0.53808208]\n",
            " [0.55505858]\n",
            " [0.55953207]\n",
            " [0.55597624]\n",
            " [0.58098189]\n",
            " [0.56079384]\n",
            " [0.5381969 ]\n",
            " [0.54198219]\n",
            " [0.55310861]\n",
            " [0.53349394]\n",
            " [0.5002295 ]\n",
            " [0.5150264 ]\n",
            " [0.53177344]\n",
            " [0.55047026]\n",
            " [0.54221148]\n",
            " [0.55322325]\n",
            " [0.5430145 ]\n",
            " [0.45297084]\n",
            " [0.45102087]\n",
            " [0.43370045]\n",
            " [0.44952982]\n",
            " [0.45434742]\n",
            " [0.45079159]\n",
            " [0.46650614]\n",
            " [0.47258551]\n",
            " [0.44792396]\n",
            " [0.46432672]\n",
            " [0.44689148]\n",
            " [0.46753845]\n",
            " [0.49208536]\n",
            " [0.49460889]\n",
            " [0.50481764]\n",
            " [0.49231482]\n",
            " [0.49139715]\n",
            " [0.46685025]\n",
            " [0.46822665]\n",
            " [0.45549437]\n",
            " [0.44998857]\n",
            " [0.4545767 ]\n",
            " [0.4535444 ]\n",
            " [0.45595329]\n",
            " [0.44081211]\n",
            " [0.44815324]\n",
            " [0.4538885 ]\n",
            " [0.47258551]\n",
            " [0.46249139]\n",
            " [0.4473504 ]\n",
            " [0.45515027]\n",
            " [0.43748574]\n",
            " [0.42842393]\n",
            " [0.42693288]\n",
            " [0.42601522]\n",
            " [0.44104157]\n",
            " [0.4490709 ]\n",
            " [0.44895626]\n",
            " [0.44723558]\n",
            " [0.46512974]\n",
            " [0.45239745]\n",
            " [0.45147979]\n",
            " [0.45251209]\n",
            " [0.45469152]\n",
            " [0.45641203]\n",
            " [0.46822665]\n",
            " [0.46776791]\n",
            " [0.46122963]\n",
            " [0.46042678]\n",
            " [0.46455618]\n",
            " [0.43633862]\n",
            " [0.45044731]\n",
            " [0.46627668]\n",
            " [0.4538885 ]\n",
            " [0.45113569]\n",
            " [0.45216799]\n",
            " [0.46501492]\n",
            " [0.48141786]\n",
            " [0.4808443 ]\n",
            " [0.47981199]\n",
            " [0.470865  ]\n",
            " [0.48004127]\n",
            " [0.49564119]\n",
            " [0.49942648]\n",
            " [0.50929114]\n",
            " [0.56343201]\n",
            " [0.55173203]\n",
            " [0.52523515]\n",
            " [0.50298232]\n",
            " [0.51364999]\n",
            " [0.49231482]\n",
            " [0.48176196]\n",
            " [0.56159668]\n",
            " [0.5907319 ]\n",
            " [0.62330814]\n",
            " [0.70612532]\n",
            " [0.71105756]\n",
            " [0.67263142]\n",
            " [0.68433122]\n",
            " [0.67343426]\n",
            " [0.69442533]\n",
            " [0.68295481]\n",
            " [0.64154623]\n",
            " [0.64613454]\n",
            " [0.64338155]\n",
            " [0.64751095]\n",
            " [0.63168157]\n",
            " [0.59256705]\n",
            " [0.53842636]\n",
            " [0.51594406]\n",
            " [0.43977981]\n",
            " [0.40582699]\n",
            " [0.45342976]\n",
            " [0.39148884]\n",
            " [0.45251209]\n",
            " [0.39894478]\n",
            " [0.37806844]\n",
            " [0.26428081]\n",
            " [0.34411562]\n",
            " [0.26611613]\n",
            " [0.092223  ]\n",
            " [0.15118147]\n",
            " [0.049438  ]\n",
            " [0.13626984]\n",
            " [0.10071125]\n",
            " [0.0638908 ]\n",
            " [0.00711175]\n",
            " [0.        ]\n",
            " [0.12284935]\n",
            " [0.12709339]\n",
            " [0.20784587]\n",
            " [0.15209913]\n",
            " [0.2083047 ]\n",
            " [0.18536366]\n",
            " [0.11894933]\n",
            " [0.17469607]\n",
            " [0.13271392]\n",
            " [0.22998398]\n",
            " [0.23136047]\n",
            " [0.28125722]\n",
            " [0.30660706]\n",
            " [0.30259239]\n",
            " [0.33425105]\n",
            " [0.27437492]\n",
            " [0.24042219]\n",
            " [0.29077777]\n",
            " [0.29410423]\n",
            " [0.25223681]\n",
            " [0.28148659]\n",
            " [0.30488646]\n",
            " [0.34354215]\n",
            " [0.35730674]\n",
            " [0.3613214 ]\n",
            " [0.38908013]\n",
            " [0.35317734]\n",
            " [0.31085118]\n",
            " [0.30867175]\n",
            " [0.31899524]\n",
            " [0.32576281]\n",
            " [0.30351006]\n",
            " [0.32369811]\n",
            " [0.31910988]\n",
            " [0.29238364]\n",
            " [0.24042219]\n",
            " [0.25441615]\n",
            " [0.25476034]\n",
            " [0.30729526]\n",
            " [0.29272774]\n",
            " [0.30523056]\n",
            " [0.27930725]\n",
            " [0.27093373]\n",
            " [0.30958942]\n",
            " [0.35294797]\n",
            " [0.34136272]\n",
            " [0.34560685]\n",
            " [0.34549212]\n",
            " [0.3582244 ]\n",
            " [0.39320952]\n",
            " [0.3913742 ]\n",
            " [0.42773573]\n",
            " [0.47006198]\n",
            " [0.4255563 ]\n",
            " [0.40261526]\n",
            " [0.26657496]\n",
            " [0.31131001]\n",
            " [0.30832765]\n",
            " [0.34847448]\n",
            " [0.33700395]\n",
            " [0.33711868]\n",
            " [0.31773348]\n",
            " [0.30167473]\n",
            " [0.28263371]\n",
            " [0.24833679]\n",
            " [0.27827486]\n",
            " [0.25716914]\n",
            " [0.28653365]\n",
            " [0.29823354]\n",
            " [0.27265433]\n",
            " [0.28596009]\n",
            " [0.2915807 ]\n",
            " [0.26164264]\n",
            " [0.26313377]\n",
            " [0.24019273]\n",
            " [0.2704749 ]\n",
            " [0.28022482]\n",
            " [0.29628357]\n",
            " [0.32381284]\n",
            " [0.33539809]\n",
            " [0.34801564]\n",
            " [0.36246852]\n",
            " [0.3589126 ]\n",
            " [0.38885067]\n",
            " [0.37348021]\n",
            " [0.3558156 ]\n",
            " [0.3606332 ]\n",
            " [0.34067452]\n",
            " [0.35042444]\n",
            " [0.3226658 ]\n",
            " [0.32312464]\n",
            " [0.33883919]\n",
            " [0.35638908]\n",
            " [0.35191558]\n",
            " [0.35960089]\n",
            " [0.34629505]\n",
            " [0.37095669]\n",
            " [0.36682729]\n",
            " [0.36625373]\n",
            " [0.34709798]\n",
            " [0.34985088]\n",
            " [0.34033042]\n",
            " [0.34583622]\n",
            " [0.33344803]\n",
            " [0.32553343]\n",
            " [0.32564816]\n",
            " [0.35455384]\n",
            " [0.34262449]\n",
            " [0.33723333]\n",
            " [0.34273922]\n",
            " [0.34755681]\n",
            " [0.32736867]\n",
            " [0.32840106]\n",
            " [0.38323005]\n",
            " [0.34044506]\n",
            " [0.31578351]\n",
            " [0.3032806 ]\n",
            " [0.31532468]\n",
            " [0.29582474]\n",
            " [0.30614823]\n",
            " [0.31337462]\n",
            " [0.31738937]\n",
            " [0.33780689]\n",
            " [0.34583622]\n",
            " [0.32105994]\n",
            " [0.29226891]\n",
            " [0.29525127]\n",
            " [0.27598079]\n",
            " [0.26749254]\n",
            " [0.27735719]\n",
            " [0.30924532]\n",
            " [0.30018359]\n",
            " [0.30855702]\n",
            " [0.3019041 ]\n",
            " [0.29593947]\n",
            " [0.31245705]\n",
            " [0.31199822]\n",
            " [0.33608629]\n",
            " [0.42119762]\n",
            " [0.37875664]\n",
            " [0.37210372]\n",
            " [0.34790091]\n",
            " [0.3575362 ]\n",
            " [0.34549212]\n",
            " [0.35742147]\n",
            " [0.35271851]\n",
            " [0.25923384]\n",
            " [0.23273688]\n",
            " [0.24076629]\n",
            " [0.24351919]\n",
            " [0.20016064]\n",
            " [0.18111953]\n",
            " [0.13626984]\n",
            " [0.16219324]\n",
            " [0.19373718]\n",
            " [0.20807533]\n",
            " [0.22241348]\n",
            " [0.19649008]\n",
            " [0.22941041]\n",
            " [0.22103698]\n",
            " [0.23812803]\n",
            " [0.26542793]\n",
            " [0.25728378]\n",
            " [0.22631341]\n",
            " [0.25326912]\n",
            " [0.27058963]\n",
            " [0.26301904]\n",
            " [0.25235146]\n",
            " [0.25705441]\n",
            " [0.25430151]\n",
            " [0.29043358]\n",
            " [0.34010096]\n",
            " [0.33757743]\n",
            " [0.33929802]\n",
            " [0.32977747]\n",
            " [0.32564816]\n",
            " [0.34239511]\n",
            " [0.33080986]\n",
            " [0.37198899]\n",
            " [0.34331269]\n",
            " [0.35489794]\n",
            " [0.36728612]\n",
            " [0.34629505]\n",
            " [0.33838036]\n",
            " [0.3298922 ]\n",
            " [0.35742147]]\n"
          ],
          "name": "stdout"
        }
      ]
    },
    {
      "cell_type": "code",
      "metadata": {
        "colab": {
          "base_uri": "https://localhost:8080/"
        },
        "id": "m-6U4jRdVsCK",
        "outputId": "df015807-49fc-4794-ec4c-017a458c3ded"
      },
      "source": [
        "train_size=int(len(data1)*0.65)\n",
        "test_size=len(data1)-train_size\n",
        "print('Train Size:', train_size)\n",
        "print('Test Size:',test_size)"
      ],
      "execution_count": null,
      "outputs": [
        {
          "output_type": "stream",
          "text": [
            "Train Size: 647\n",
            "Test Size: 349\n"
          ],
          "name": "stdout"
        }
      ]
    },
    {
      "cell_type": "code",
      "metadata": {
        "colab": {
          "base_uri": "https://localhost:8080/"
        },
        "id": "jp9uazC9VsCL",
        "outputId": "4956582f-54f6-4480-85b1-f6f089cc4de6"
      },
      "source": [
        "s=len(data1)\n",
        "s"
      ],
      "execution_count": null,
      "outputs": [
        {
          "output_type": "execute_result",
          "data": {
            "text/plain": [
              "996"
            ]
          },
          "metadata": {
            "tags": []
          },
          "execution_count": 16
        }
      ]
    },
    {
      "cell_type": "markdown",
      "metadata": {
        "id": "i8YlYF_JXdnn"
      },
      "source": [
        "## Train Test Split"
      ]
    },
    {
      "cell_type": "code",
      "metadata": {
        "id": "0-YejPPHVsCL"
      },
      "source": [
        "train_data,test_data=data1[0:train_size,:],data1[train_size:len(data1),:1]"
      ],
      "execution_count": null,
      "outputs": []
    },
    {
      "cell_type": "code",
      "metadata": {
        "id": "GL2b5gJwVsCL"
      },
      "source": [
        "def create_dataset(dataset, time_step=1):\n",
        "    datax,datay=[],[]\n",
        "    for i in range(len(dataset)-time_step-1):\n",
        "        a=dataset[i:(i+time_step),0]\n",
        "        datax.append(a)\n",
        "        datay.append(dataset[i+time_step,0])\n",
        "    return np.array(datax),np.array(datay)"
      ],
      "execution_count": null,
      "outputs": []
    },
    {
      "cell_type": "code",
      "metadata": {
        "id": "kuLygWI_VsCM"
      },
      "source": [
        "time_step=100\n",
        "x_train,y_train=create_dataset(train_data,time_step)\n",
        "x_test,y_test=create_dataset(test_data,time_step)"
      ],
      "execution_count": null,
      "outputs": []
    },
    {
      "cell_type": "code",
      "metadata": {
        "colab": {
          "base_uri": "https://localhost:8080/"
        },
        "id": "s8gR4pANVsCM",
        "outputId": "3195383f-3691-4c98-f923-aad3876bd330"
      },
      "source": [
        "print(x_train)"
      ],
      "execution_count": null,
      "outputs": [
        {
          "output_type": "stream",
          "text": [
            "[[0.83069518 0.85443906 0.8480156  ... 0.65680204 0.66230784 0.67022253]\n",
            " [0.85443906 0.8480156  0.85753615 ... 0.66230784 0.67022253 0.66207856]\n",
            " [0.8480156  0.85753615 0.83597152 ... 0.67022253 0.66207856 0.65336085]\n",
            " ...\n",
            " [0.50080289 0.49449424 0.48417067 ... 0.63053463 0.63787575 0.633861  ]\n",
            " [0.49449424 0.48417067 0.46558848 ... 0.63787575 0.633861   0.63799039]\n",
            " [0.48417067 0.46558848 0.46249139 ... 0.633861   0.63799039 0.64911681]]\n"
          ],
          "name": "stdout"
        }
      ]
    },
    {
      "cell_type": "code",
      "metadata": {
        "id": "ojOqrAoQVsCN"
      },
      "source": [
        "x_train=x_train.reshape(x_train.shape[0],x_train.shape[1],1)\n",
        "x_test=x_test.reshape(x_test.shape[0],x_test.shape[1],1)"
      ],
      "execution_count": null,
      "outputs": []
    },
    {
      "cell_type": "markdown",
      "metadata": {
        "id": "fQwbK42NXjLi"
      },
      "source": [
        "# Tensor Flow"
      ]
    },
    {
      "cell_type": "code",
      "metadata": {
        "id": "SfFntx1rVsCN"
      },
      "source": [
        "from tensorflow.keras.models import Sequential\n",
        "from tensorflow.keras.layers import Dense\n",
        "from tensorflow.keras.layers import LSTM"
      ],
      "execution_count": null,
      "outputs": []
    },
    {
      "cell_type": "code",
      "metadata": {
        "id": "VqEVsNpCVsCN"
      },
      "source": [
        "model=Sequential()\r\n",
        "model.add(LSTM(50,return_sequences=True,input_shape=(100,1)))\r\n",
        "model.add(LSTM(50,return_sequences=True))\r\n",
        "model.add(LSTM(50))\r\n",
        "model.add(Dense(1))\r\n",
        "model.compile(loss='mean_squared_error',optimizer='adam')"
      ],
      "execution_count": null,
      "outputs": []
    },
    {
      "cell_type": "code",
      "metadata": {
        "colab": {
          "base_uri": "https://localhost:8080/"
        },
        "id": "4SRbijbdYbo7",
        "outputId": "1a18cf6e-cb18-4e47-8878-543f272ae55c"
      },
      "source": [
        "model.summary()"
      ],
      "execution_count": null,
      "outputs": [
        {
          "output_type": "stream",
          "text": [
            "Model: \"sequential\"\n",
            "_________________________________________________________________\n",
            "Layer (type)                 Output Shape              Param #   \n",
            "=================================================================\n",
            "lstm (LSTM)                  (None, 100, 50)           10400     \n",
            "_________________________________________________________________\n",
            "lstm_1 (LSTM)                (None, 100, 50)           20200     \n",
            "_________________________________________________________________\n",
            "lstm_2 (LSTM)                (None, 50)                20200     \n",
            "_________________________________________________________________\n",
            "dense (Dense)                (None, 1)                 51        \n",
            "=================================================================\n",
            "Total params: 50,851\n",
            "Trainable params: 50,851\n",
            "Non-trainable params: 0\n",
            "_________________________________________________________________\n"
          ],
          "name": "stdout"
        }
      ]
    },
    {
      "cell_type": "markdown",
      "metadata": {
        "id": "LTidm1pGXsZO"
      },
      "source": [
        "## Model Training"
      ]
    },
    {
      "cell_type": "code",
      "metadata": {
        "colab": {
          "base_uri": "https://localhost:8080/"
        },
        "id": "XyE30kB3Yehd",
        "outputId": "3a6dd2bd-c1e2-4130-8ddb-243335f0b3a1"
      },
      "source": [
        "model.fit(x_train,y_train,validation_data=(x_test,y_test),epochs=100,batch_size=64,verbose=1)"
      ],
      "execution_count": null,
      "outputs": [
        {
          "output_type": "stream",
          "text": [
            "Epoch 1/100\n",
            "9/9 [==============================] - 7s 354ms/step - loss: 0.2359 - val_loss: 0.0640\n",
            "Epoch 2/100\n",
            "9/9 [==============================] - 2s 193ms/step - loss: 0.0247 - val_loss: 0.0098\n",
            "Epoch 3/100\n",
            "9/9 [==============================] - 2s 196ms/step - loss: 0.0119 - val_loss: 0.0296\n",
            "Epoch 4/100\n",
            "9/9 [==============================] - 2s 190ms/step - loss: 0.0078 - val_loss: 0.0127\n",
            "Epoch 5/100\n",
            "9/9 [==============================] - 2s 190ms/step - loss: 0.0063 - val_loss: 0.0202\n",
            "Epoch 6/100\n",
            "9/9 [==============================] - 2s 191ms/step - loss: 0.0051 - val_loss: 0.0134\n",
            "Epoch 7/100\n",
            "9/9 [==============================] - 2s 191ms/step - loss: 0.0054 - val_loss: 0.0170\n",
            "Epoch 8/100\n",
            "9/9 [==============================] - 2s 182ms/step - loss: 0.0048 - val_loss: 0.0121\n",
            "Epoch 9/100\n",
            "9/9 [==============================] - 2s 184ms/step - loss: 0.0042 - val_loss: 0.0144\n",
            "Epoch 10/100\n",
            "9/9 [==============================] - 2s 182ms/step - loss: 0.0047 - val_loss: 0.0111\n",
            "Epoch 11/100\n",
            "9/9 [==============================] - 2s 183ms/step - loss: 0.0041 - val_loss: 0.0114\n",
            "Epoch 12/100\n",
            "9/9 [==============================] - 2s 181ms/step - loss: 0.0036 - val_loss: 0.0115\n",
            "Epoch 13/100\n",
            "9/9 [==============================] - 2s 181ms/step - loss: 0.0042 - val_loss: 0.0102\n",
            "Epoch 14/100\n",
            "9/9 [==============================] - 2s 188ms/step - loss: 0.0037 - val_loss: 0.0095\n",
            "Epoch 15/100\n",
            "9/9 [==============================] - 2s 180ms/step - loss: 0.0036 - val_loss: 0.0098\n",
            "Epoch 16/100\n",
            "9/9 [==============================] - 2s 182ms/step - loss: 0.0036 - val_loss: 0.0090\n",
            "Epoch 17/100\n",
            "9/9 [==============================] - 2s 186ms/step - loss: 0.0034 - val_loss: 0.0094\n",
            "Epoch 18/100\n",
            "9/9 [==============================] - 2s 192ms/step - loss: 0.0036 - val_loss: 0.0097\n",
            "Epoch 19/100\n",
            "9/9 [==============================] - 2s 188ms/step - loss: 0.0035 - val_loss: 0.0088\n",
            "Epoch 20/100\n",
            "9/9 [==============================] - 2s 184ms/step - loss: 0.0034 - val_loss: 0.0088\n",
            "Epoch 21/100\n",
            "9/9 [==============================] - 2s 183ms/step - loss: 0.0030 - val_loss: 0.0087\n",
            "Epoch 22/100\n",
            "9/9 [==============================] - 2s 182ms/step - loss: 0.0036 - val_loss: 0.0090\n",
            "Epoch 23/100\n",
            "9/9 [==============================] - 2s 185ms/step - loss: 0.0033 - val_loss: 0.0087\n",
            "Epoch 24/100\n",
            "9/9 [==============================] - 2s 182ms/step - loss: 0.0029 - val_loss: 0.0081\n",
            "Epoch 25/100\n",
            "9/9 [==============================] - 2s 184ms/step - loss: 0.0029 - val_loss: 0.0078\n",
            "Epoch 26/100\n",
            "9/9 [==============================] - 2s 186ms/step - loss: 0.0027 - val_loss: 0.0072\n",
            "Epoch 27/100\n",
            "9/9 [==============================] - 2s 197ms/step - loss: 0.0028 - val_loss: 0.0079\n",
            "Epoch 28/100\n",
            "9/9 [==============================] - 2s 200ms/step - loss: 0.0026 - val_loss: 0.0082\n",
            "Epoch 29/100\n",
            "9/9 [==============================] - 2s 183ms/step - loss: 0.0030 - val_loss: 0.0070\n",
            "Epoch 30/100\n",
            "9/9 [==============================] - 2s 188ms/step - loss: 0.0025 - val_loss: 0.0072\n",
            "Epoch 31/100\n",
            "9/9 [==============================] - 2s 184ms/step - loss: 0.0025 - val_loss: 0.0072\n",
            "Epoch 32/100\n",
            "9/9 [==============================] - 2s 187ms/step - loss: 0.0025 - val_loss: 0.0070\n",
            "Epoch 33/100\n",
            "9/9 [==============================] - 2s 183ms/step - loss: 0.0025 - val_loss: 0.0068\n",
            "Epoch 34/100\n",
            "9/9 [==============================] - 2s 190ms/step - loss: 0.0027 - val_loss: 0.0058\n",
            "Epoch 35/100\n",
            "9/9 [==============================] - 2s 184ms/step - loss: 0.0026 - val_loss: 0.0067\n",
            "Epoch 36/100\n",
            "9/9 [==============================] - 2s 188ms/step - loss: 0.0023 - val_loss: 0.0063\n",
            "Epoch 37/100\n",
            "9/9 [==============================] - 2s 193ms/step - loss: 0.0022 - val_loss: 0.0054\n",
            "Epoch 38/100\n",
            "9/9 [==============================] - 2s 184ms/step - loss: 0.0024 - val_loss: 0.0062\n",
            "Epoch 39/100\n",
            "9/9 [==============================] - 2s 187ms/step - loss: 0.0022 - val_loss: 0.0069\n",
            "Epoch 40/100\n",
            "9/9 [==============================] - 2s 184ms/step - loss: 0.0025 - val_loss: 0.0052\n",
            "Epoch 41/100\n",
            "9/9 [==============================] - 2s 183ms/step - loss: 0.0023 - val_loss: 0.0050\n",
            "Epoch 42/100\n",
            "9/9 [==============================] - 2s 185ms/step - loss: 0.0021 - val_loss: 0.0051\n",
            "Epoch 43/100\n",
            "9/9 [==============================] - 2s 181ms/step - loss: 0.0020 - val_loss: 0.0054\n",
            "Epoch 44/100\n",
            "9/9 [==============================] - 2s 196ms/step - loss: 0.0020 - val_loss: 0.0050\n",
            "Epoch 45/100\n",
            "9/9 [==============================] - 2s 187ms/step - loss: 0.0020 - val_loss: 0.0049\n",
            "Epoch 46/100\n",
            "9/9 [==============================] - 2s 195ms/step - loss: 0.0019 - val_loss: 0.0042\n",
            "Epoch 47/100\n",
            "9/9 [==============================] - 2s 183ms/step - loss: 0.0020 - val_loss: 0.0042\n",
            "Epoch 48/100\n",
            "9/9 [==============================] - 2s 186ms/step - loss: 0.0019 - val_loss: 0.0044\n",
            "Epoch 49/100\n",
            "9/9 [==============================] - 2s 186ms/step - loss: 0.0017 - val_loss: 0.0048\n",
            "Epoch 50/100\n",
            "9/9 [==============================] - 2s 200ms/step - loss: 0.0019 - val_loss: 0.0044\n",
            "Epoch 51/100\n",
            "9/9 [==============================] - 2s 185ms/step - loss: 0.0016 - val_loss: 0.0041\n",
            "Epoch 52/100\n",
            "9/9 [==============================] - 2s 189ms/step - loss: 0.0017 - val_loss: 0.0042\n",
            "Epoch 53/100\n",
            "9/9 [==============================] - 2s 199ms/step - loss: 0.0018 - val_loss: 0.0040\n",
            "Epoch 54/100\n",
            "9/9 [==============================] - 2s 187ms/step - loss: 0.0016 - val_loss: 0.0038\n",
            "Epoch 55/100\n",
            "9/9 [==============================] - 2s 189ms/step - loss: 0.0017 - val_loss: 0.0042\n",
            "Epoch 56/100\n",
            "9/9 [==============================] - 2s 184ms/step - loss: 0.0015 - val_loss: 0.0040\n",
            "Epoch 57/100\n",
            "9/9 [==============================] - 2s 187ms/step - loss: 0.0016 - val_loss: 0.0037\n",
            "Epoch 58/100\n",
            "9/9 [==============================] - 2s 190ms/step - loss: 0.0017 - val_loss: 0.0046\n",
            "Epoch 59/100\n",
            "9/9 [==============================] - 2s 193ms/step - loss: 0.0017 - val_loss: 0.0035\n",
            "Epoch 60/100\n",
            "9/9 [==============================] - 2s 188ms/step - loss: 0.0015 - val_loss: 0.0042\n",
            "Epoch 61/100\n",
            "9/9 [==============================] - 2s 191ms/step - loss: 0.0016 - val_loss: 0.0038\n",
            "Epoch 62/100\n",
            "9/9 [==============================] - 2s 189ms/step - loss: 0.0016 - val_loss: 0.0036\n",
            "Epoch 63/100\n",
            "9/9 [==============================] - 2s 189ms/step - loss: 0.0016 - val_loss: 0.0040\n",
            "Epoch 64/100\n",
            "9/9 [==============================] - 2s 190ms/step - loss: 0.0016 - val_loss: 0.0037\n",
            "Epoch 65/100\n",
            "9/9 [==============================] - 2s 187ms/step - loss: 0.0016 - val_loss: 0.0035\n",
            "Epoch 66/100\n",
            "9/9 [==============================] - 2s 191ms/step - loss: 0.0015 - val_loss: 0.0034\n",
            "Epoch 67/100\n",
            "9/9 [==============================] - 2s 186ms/step - loss: 0.0014 - val_loss: 0.0039\n",
            "Epoch 68/100\n",
            "9/9 [==============================] - 2s 192ms/step - loss: 0.0014 - val_loss: 0.0034\n",
            "Epoch 69/100\n",
            "9/9 [==============================] - 2s 198ms/step - loss: 0.0013 - val_loss: 0.0034\n",
            "Epoch 70/100\n",
            "9/9 [==============================] - 2s 201ms/step - loss: 0.0013 - val_loss: 0.0034\n",
            "Epoch 71/100\n",
            "9/9 [==============================] - 2s 204ms/step - loss: 0.0015 - val_loss: 0.0033\n",
            "Epoch 72/100\n",
            "9/9 [==============================] - 2s 187ms/step - loss: 0.0013 - val_loss: 0.0033\n",
            "Epoch 73/100\n",
            "9/9 [==============================] - 2s 186ms/step - loss: 0.0013 - val_loss: 0.0036\n",
            "Epoch 74/100\n",
            "9/9 [==============================] - 2s 193ms/step - loss: 0.0015 - val_loss: 0.0033\n",
            "Epoch 75/100\n",
            "9/9 [==============================] - 2s 193ms/step - loss: 0.0013 - val_loss: 0.0043\n",
            "Epoch 76/100\n",
            "9/9 [==============================] - 2s 207ms/step - loss: 0.0018 - val_loss: 0.0038\n",
            "Epoch 77/100\n",
            "9/9 [==============================] - 2s 185ms/step - loss: 0.0014 - val_loss: 0.0031\n",
            "Epoch 78/100\n",
            "9/9 [==============================] - 2s 202ms/step - loss: 0.0013 - val_loss: 0.0037\n",
            "Epoch 79/100\n",
            "9/9 [==============================] - 2s 193ms/step - loss: 0.0012 - val_loss: 0.0030\n",
            "Epoch 80/100\n",
            "9/9 [==============================] - 2s 190ms/step - loss: 0.0016 - val_loss: 0.0040\n",
            "Epoch 81/100\n",
            "9/9 [==============================] - 2s 187ms/step - loss: 0.0015 - val_loss: 0.0032\n",
            "Epoch 82/100\n",
            "9/9 [==============================] - 2s 193ms/step - loss: 0.0012 - val_loss: 0.0034\n",
            "Epoch 83/100\n",
            "9/9 [==============================] - 2s 194ms/step - loss: 0.0012 - val_loss: 0.0030\n",
            "Epoch 84/100\n",
            "9/9 [==============================] - 2s 188ms/step - loss: 0.0011 - val_loss: 0.0031\n",
            "Epoch 85/100\n",
            "9/9 [==============================] - 2s 193ms/step - loss: 0.0012 - val_loss: 0.0030\n",
            "Epoch 86/100\n",
            "9/9 [==============================] - 2s 188ms/step - loss: 0.0013 - val_loss: 0.0027\n",
            "Epoch 87/100\n",
            "9/9 [==============================] - 2s 201ms/step - loss: 0.0015 - val_loss: 0.0033\n",
            "Epoch 88/100\n",
            "9/9 [==============================] - 2s 198ms/step - loss: 0.0013 - val_loss: 0.0028\n",
            "Epoch 89/100\n",
            "9/9 [==============================] - 2s 191ms/step - loss: 0.0012 - val_loss: 0.0031\n",
            "Epoch 90/100\n",
            "9/9 [==============================] - 2s 187ms/step - loss: 0.0013 - val_loss: 0.0027\n",
            "Epoch 91/100\n",
            "9/9 [==============================] - 2s 198ms/step - loss: 0.0014 - val_loss: 0.0030\n",
            "Epoch 92/100\n",
            "9/9 [==============================] - 2s 188ms/step - loss: 9.4314e-04 - val_loss: 0.0028\n",
            "Epoch 93/100\n",
            "9/9 [==============================] - 2s 188ms/step - loss: 0.0010 - val_loss: 0.0028\n",
            "Epoch 94/100\n",
            "9/9 [==============================] - 2s 201ms/step - loss: 0.0011 - val_loss: 0.0027\n",
            "Epoch 95/100\n",
            "9/9 [==============================] - 2s 191ms/step - loss: 0.0011 - val_loss: 0.0029\n",
            "Epoch 96/100\n",
            "9/9 [==============================] - 2s 187ms/step - loss: 0.0010 - val_loss: 0.0028\n",
            "Epoch 97/100\n",
            "9/9 [==============================] - 2s 187ms/step - loss: 0.0013 - val_loss: 0.0026\n",
            "Epoch 98/100\n",
            "9/9 [==============================] - 2s 187ms/step - loss: 0.0010 - val_loss: 0.0024\n",
            "Epoch 99/100\n",
            "9/9 [==============================] - 2s 186ms/step - loss: 0.0013 - val_loss: 0.0027\n",
            "Epoch 100/100\n",
            "9/9 [==============================] - 2s 192ms/step - loss: 9.2108e-04 - val_loss: 0.0024\n"
          ],
          "name": "stdout"
        },
        {
          "output_type": "execute_result",
          "data": {
            "text/plain": [
              "<tensorflow.python.keras.callbacks.History at 0x7f1aab3f6278>"
            ]
          },
          "metadata": {
            "tags": []
          },
          "execution_count": 25
        }
      ]
    },
    {
      "cell_type": "code",
      "metadata": {
        "id": "ECVtnvXLYhz6"
      },
      "source": [
        "train_predict=model.predict(x_train)\r\n",
        "test_predict=model.predict(x_test)"
      ],
      "execution_count": null,
      "outputs": []
    },
    {
      "cell_type": "code",
      "metadata": {
        "id": "6Qeo1yPFZetl"
      },
      "source": [
        "train_predict=scaler.inverse_transform(train_predict)\r\n",
        "test_predict=scaler.inverse_transform(test_predict)"
      ],
      "execution_count": null,
      "outputs": []
    },
    {
      "cell_type": "markdown",
      "metadata": {
        "id": "S0D1_RK-Z2aR"
      },
      "source": [
        "# Evaluate Metrics"
      ]
    },
    {
      "cell_type": "code",
      "metadata": {
        "colab": {
          "base_uri": "https://localhost:8080/"
        },
        "id": "qZ2lXvr9Zh1K",
        "outputId": "fc6dda58-7dfd-4bc7-f00c-4291be017f48"
      },
      "source": [
        "import math\r\n",
        "from sklearn.metrics import mean_squared_error\r\n",
        "math.sqrt(mean_squared_error(y_train,train_predict))"
      ],
      "execution_count": null,
      "outputs": [
        {
          "output_type": "execute_result",
          "data": {
            "text/plain": [
              "141.86904849312512"
            ]
          },
          "metadata": {
            "tags": []
          },
          "execution_count": 28
        }
      ]
    },
    {
      "cell_type": "code",
      "metadata": {
        "colab": {
          "base_uri": "https://localhost:8080/"
        },
        "id": "iWEEhJhyZpct",
        "outputId": "4b544f31-2ff9-46a9-abbd-b1c4194b8609"
      },
      "source": [
        "math.sqrt(mean_squared_error(y_test,test_predict))"
      ],
      "execution_count": null,
      "outputs": [
        {
          "output_type": "execute_result",
          "data": {
            "text/plain": [
              "124.78895600461155"
            ]
          },
          "metadata": {
            "tags": []
          },
          "execution_count": 29
        }
      ]
    },
    {
      "cell_type": "code",
      "metadata": {
        "colab": {
          "base_uri": "https://localhost:8080/",
          "height": 265
        },
        "id": "jW-2CcRXZ_MP",
        "outputId": "07119dbd-e2ac-4baa-912c-2cdfe2a7b3e4"
      },
      "source": [
        "#split train predict for plot\r\n",
        "look_back=100\r\n",
        "trainpredictplot=np.empty_like(data1)\r\n",
        "trainpredictplot[:, :]=np.nan\r\n",
        "trainpredictplot[look_back:len(train_predict)+look_back,:]=train_predict\r\n",
        "#shif test predict for plot\r\n",
        "testpredictplot=np.empty_like(data1)\r\n",
        "testpredictplot[:, :]=np.nan\r\n",
        "testpredictplot[len(train_predict)+(look_back*2)+1:len(data1)-1,:]=test_predict\r\n",
        "\r\n",
        "plt.plot(scaler.inverse_transform(data1))\r\n",
        "plt.plot(trainpredictplot)\r\n",
        "plt.plot(testpredictplot)\r\n",
        "plt.show()"
      ],
      "execution_count": null,
      "outputs": [
        {
          "output_type": "display_data",
          "data": {
            "image/png": "[encoded data removed]",
            "text/plain": [
              "<Figure size 432x288 with 1 Axes>"
            ]
          },
          "metadata": {
            "tags": []
          }
        }
      ]
    },
    {
      "cell_type": "code",
      "metadata": {
        "colab": {
          "base_uri": "https://localhost:8080/"
        },
        "id": "-zRiVSbHaA0s",
        "outputId": "a3aff4e8-0f9e-41d7-aff5-3d5b2f93f8e3"
      },
      "source": [
        "len(test_data)"
      ],
      "execution_count": null,
      "outputs": [
        {
          "output_type": "execute_result",
          "data": {
            "text/plain": [
              "349"
            ]
          },
          "metadata": {
            "tags": []
          },
          "execution_count": 31
        }
      ]
    },
    {
      "cell_type": "code",
      "metadata": {
        "colab": {
          "base_uri": "https://localhost:8080/"
        },
        "id": "sOYeUGrJbkxP",
        "outputId": "337283a2-4603-4fd7-b471-45ca6065acd8"
      },
      "source": [
        "x_input=test_data[248:].reshape(1,-1)\r\n",
        "x_input.shape"
      ],
      "execution_count": null,
      "outputs": [
        {
          "output_type": "execute_result",
          "data": {
            "text/plain": [
              "(1, 101)"
            ]
          },
          "metadata": {
            "tags": []
          },
          "execution_count": 32
        }
      ]
    },
    {
      "cell_type": "code",
      "metadata": {
        "id": "yitX_iDgbnq7"
      },
      "source": [
        "temp_input=list(x_input)\r\n",
        "temp_input=temp_input[0].tolist()"
      ],
      "execution_count": null,
      "outputs": []
    },
    {
      "cell_type": "markdown",
      "metadata": {
        "id": "U8hmacYKX7rR"
      },
      "source": [
        "## Testing"
      ]
    },
    {
      "cell_type": "code",
      "metadata": {
        "colab": {
          "base_uri": "https://localhost:8080/"
        },
        "id": "cYRJcCx5bq-h",
        "outputId": "35ed8025-a720-4b98-dbb7-5a9c7b42ef24"
      },
      "source": [
        "from numpy import array\r\n",
        "lst_output=[]\r\n",
        "n_steps= 100\r\n",
        "i=0\r\n",
        "while(i<30):\r\n",
        "  if(len(temp_input)>100):\r\n",
        "        #print(temp_input)\r\n",
        "        x_input=np.array(temp_input[1:])\r\n",
        "        print(\"{} day input {}\".format(i,x_input))\r\n",
        "        x_input=x_input.reshape(1,-1)\r\n",
        "        x_input = x_input.reshape((1, n_steps, 1))\r\n",
        "        #print(x_input)\r\n",
        "        yhat = model.predict(x_input, verbose=0)\r\n",
        "        print(\"{} day output {}\".format(i,yhat))\r\n",
        "        temp_input.extend(yhat[0].tolist())\r\n",
        "        temp_input=temp_input[1:]\r\n",
        "        #print(temp_input)\r\n",
        "        lst_output.extend(yhat.tolist())\r\n",
        "        i=i+1\r\n",
        "  else:\r\n",
        "        x_input = x_input.reshape((1, n_steps,1))\r\n",
        "        yhat = model.predict(x_input, verbose=0)\r\n",
        "        print(yhat[0])\r\n",
        "        temp_input.extend(yhat[0].tolist())\r\n",
        "        print(len(temp_input))\r\n",
        "        lst_output.extend(yhat.tolist())\r\n",
        "        i=i+1\r\n",
        "    \r\n",
        "\r\n",
        "print(lst_output)"
      ],
      "execution_count": null,
      "outputs": [
        {
          "output_type": "stream",
          "text": [
            "0 day input [0.3606332  0.34067452 0.35042444 0.3226658  0.32312464 0.33883919\n",
            " 0.35638908 0.35191558 0.35960089 0.34629505 0.37095669 0.36682729\n",
            " 0.36625373 0.34709798 0.34985088 0.34033042 0.34583622 0.33344803\n",
            " 0.32553343 0.32564816 0.35455384 0.34262449 0.33723333 0.34273922\n",
            " 0.34755681 0.32736867 0.32840106 0.38323005 0.34044506 0.31578351\n",
            " 0.3032806  0.31532468 0.29582474 0.30614823 0.31337462 0.31738937\n",
            " 0.33780689 0.34583622 0.32105994 0.29226891 0.29525127 0.27598079\n",
            " 0.26749254 0.27735719 0.30924532 0.30018359 0.30855702 0.3019041\n",
            " 0.29593947 0.31245705 0.31199822 0.33608629 0.42119762 0.37875664\n",
            " 0.37210372 0.34790091 0.3575362  0.34549212 0.35742147 0.35271851\n",
            " 0.25923384 0.23273688 0.24076629 0.24351919 0.20016064 0.18111953\n",
            " 0.13626984 0.16219324 0.19373718 0.20807533 0.22241348 0.19649008\n",
            " 0.22941041 0.22103698 0.23812803 0.26542793 0.25728378 0.22631341\n",
            " 0.25326912 0.27058963 0.26301904 0.25235146 0.25705441 0.25430151\n",
            " 0.29043358 0.34010096 0.33757743 0.33929802 0.32977747 0.32564816\n",
            " 0.34239511 0.33080986 0.37198899 0.34331269 0.35489794 0.36728612\n",
            " 0.34629505 0.33838036 0.3298922  0.35742147]\n",
            "0 day output [[0.3508748]]\n",
            "1 day input [0.34067452 0.35042444 0.3226658  0.32312464 0.33883919 0.35638908\n",
            " 0.35191558 0.35960089 0.34629505 0.37095669 0.36682729 0.36625373\n",
            " 0.34709798 0.34985088 0.34033042 0.34583622 0.33344803 0.32553343\n",
            " 0.32564816 0.35455384 0.34262449 0.33723333 0.34273922 0.34755681\n",
            " 0.32736867 0.32840106 0.38323005 0.34044506 0.31578351 0.3032806\n",
            " 0.31532468 0.29582474 0.30614823 0.31337462 0.31738937 0.33780689\n",
            " 0.34583622 0.32105994 0.29226891 0.29525127 0.27598079 0.26749254\n",
            " 0.27735719 0.30924532 0.30018359 0.30855702 0.3019041  0.29593947\n",
            " 0.31245705 0.31199822 0.33608629 0.42119762 0.37875664 0.37210372\n",
            " 0.34790091 0.3575362  0.34549212 0.35742147 0.35271851 0.25923384\n",
            " 0.23273688 0.24076629 0.24351919 0.20016064 0.18111953 0.13626984\n",
            " 0.16219324 0.19373718 0.20807533 0.22241348 0.19649008 0.22941041\n",
            " 0.22103698 0.23812803 0.26542793 0.25728378 0.22631341 0.25326912\n",
            " 0.27058963 0.26301904 0.25235146 0.25705441 0.25430151 0.29043358\n",
            " 0.34010096 0.33757743 0.33929802 0.32977747 0.32564816 0.34239511\n",
            " 0.33080986 0.37198899 0.34331269 0.35489794 0.36728612 0.34629505\n",
            " 0.33838036 0.3298922  0.35742147 0.35087481]\n",
            "1 day output [[0.34969804]]\n",
            "2 day input [0.35042444 0.3226658  0.32312464 0.33883919 0.35638908 0.35191558\n",
            " 0.35960089 0.34629505 0.37095669 0.36682729 0.36625373 0.34709798\n",
            " 0.34985088 0.34033042 0.34583622 0.33344803 0.32553343 0.32564816\n",
            " 0.35455384 0.34262449 0.33723333 0.34273922 0.34755681 0.32736867\n",
            " 0.32840106 0.38323005 0.34044506 0.31578351 0.3032806  0.31532468\n",
            " 0.29582474 0.30614823 0.31337462 0.31738937 0.33780689 0.34583622\n",
            " 0.32105994 0.29226891 0.29525127 0.27598079 0.26749254 0.27735719\n",
            " 0.30924532 0.30018359 0.30855702 0.3019041  0.29593947 0.31245705\n",
            " 0.31199822 0.33608629 0.42119762 0.37875664 0.37210372 0.34790091\n",
            " 0.3575362  0.34549212 0.35742147 0.35271851 0.25923384 0.23273688\n",
            " 0.24076629 0.24351919 0.20016064 0.18111953 0.13626984 0.16219324\n",
            " 0.19373718 0.20807533 0.22241348 0.19649008 0.22941041 0.22103698\n",
            " 0.23812803 0.26542793 0.25728378 0.22631341 0.25326912 0.27058963\n",
            " 0.26301904 0.25235146 0.25705441 0.25430151 0.29043358 0.34010096\n",
            " 0.33757743 0.33929802 0.32977747 0.32564816 0.34239511 0.33080986\n",
            " 0.37198899 0.34331269 0.35489794 0.36728612 0.34629505 0.33838036\n",
            " 0.3298922  0.35742147 0.35087481 0.34969804]\n",
            "2 day output [[0.34985316]]\n",
            "3 day input [0.3226658  0.32312464 0.33883919 0.35638908 0.35191558 0.35960089\n",
            " 0.34629505 0.37095669 0.36682729 0.36625373 0.34709798 0.34985088\n",
            " 0.34033042 0.34583622 0.33344803 0.32553343 0.32564816 0.35455384\n",
            " 0.34262449 0.33723333 0.34273922 0.34755681 0.32736867 0.32840106\n",
            " 0.38323005 0.34044506 0.31578351 0.3032806  0.31532468 0.29582474\n",
            " 0.30614823 0.31337462 0.31738937 0.33780689 0.34583622 0.32105994\n",
            " 0.29226891 0.29525127 0.27598079 0.26749254 0.27735719 0.30924532\n",
            " 0.30018359 0.30855702 0.3019041  0.29593947 0.31245705 0.31199822\n",
            " 0.33608629 0.42119762 0.37875664 0.37210372 0.34790091 0.3575362\n",
            " 0.34549212 0.35742147 0.35271851 0.25923384 0.23273688 0.24076629\n",
            " 0.24351919 0.20016064 0.18111953 0.13626984 0.16219324 0.19373718\n",
            " 0.20807533 0.22241348 0.19649008 0.22941041 0.22103698 0.23812803\n",
            " 0.26542793 0.25728378 0.22631341 0.25326912 0.27058963 0.26301904\n",
            " 0.25235146 0.25705441 0.25430151 0.29043358 0.34010096 0.33757743\n",
            " 0.33929802 0.32977747 0.32564816 0.34239511 0.33080986 0.37198899\n",
            " 0.34331269 0.35489794 0.36728612 0.34629505 0.33838036 0.3298922\n",
            " 0.35742147 0.35087481 0.34969804 0.34985316]\n",
            "3 day output [[0.350645]]\n",
            "4 day input [0.32312464 0.33883919 0.35638908 0.35191558 0.35960089 0.34629505\n",
            " 0.37095669 0.36682729 0.36625373 0.34709798 0.34985088 0.34033042\n",
            " 0.34583622 0.33344803 0.32553343 0.32564816 0.35455384 0.34262449\n",
            " 0.33723333 0.34273922 0.34755681 0.32736867 0.32840106 0.38323005\n",
            " 0.34044506 0.31578351 0.3032806  0.31532468 0.29582474 0.30614823\n",
            " 0.31337462 0.31738937 0.33780689 0.34583622 0.32105994 0.29226891\n",
            " 0.29525127 0.27598079 0.26749254 0.27735719 0.30924532 0.30018359\n",
            " 0.30855702 0.3019041  0.29593947 0.31245705 0.31199822 0.33608629\n",
            " 0.42119762 0.37875664 0.37210372 0.34790091 0.3575362  0.34549212\n",
            " 0.35742147 0.35271851 0.25923384 0.23273688 0.24076629 0.24351919\n",
            " 0.20016064 0.18111953 0.13626984 0.16219324 0.19373718 0.20807533\n",
            " 0.22241348 0.19649008 0.22941041 0.22103698 0.23812803 0.26542793\n",
            " 0.25728378 0.22631341 0.25326912 0.27058963 0.26301904 0.25235146\n",
            " 0.25705441 0.25430151 0.29043358 0.34010096 0.33757743 0.33929802\n",
            " 0.32977747 0.32564816 0.34239511 0.33080986 0.37198899 0.34331269\n",
            " 0.35489794 0.36728612 0.34629505 0.33838036 0.3298922  0.35742147\n",
            " 0.35087481 0.34969804 0.34985316 0.35064501]\n",
            "4 day output [[0.3516353]]\n",
            "5 day input [0.33883919 0.35638908 0.35191558 0.35960089 0.34629505 0.37095669\n",
            " 0.36682729 0.36625373 0.34709798 0.34985088 0.34033042 0.34583622\n",
            " 0.33344803 0.32553343 0.32564816 0.35455384 0.34262449 0.33723333\n",
            " 0.34273922 0.34755681 0.32736867 0.32840106 0.38323005 0.34044506\n",
            " 0.31578351 0.3032806  0.31532468 0.29582474 0.30614823 0.31337462\n",
            " 0.31738937 0.33780689 0.34583622 0.32105994 0.29226891 0.29525127\n",
            " 0.27598079 0.26749254 0.27735719 0.30924532 0.30018359 0.30855702\n",
            " 0.3019041  0.29593947 0.31245705 0.31199822 0.33608629 0.42119762\n",
            " 0.37875664 0.37210372 0.34790091 0.3575362  0.34549212 0.35742147\n",
            " 0.35271851 0.25923384 0.23273688 0.24076629 0.24351919 0.20016064\n",
            " 0.18111953 0.13626984 0.16219324 0.19373718 0.20807533 0.22241348\n",
            " 0.19649008 0.22941041 0.22103698 0.23812803 0.26542793 0.25728378\n",
            " 0.22631341 0.25326912 0.27058963 0.26301904 0.25235146 0.25705441\n",
            " 0.25430151 0.29043358 0.34010096 0.33757743 0.33929802 0.32977747\n",
            " 0.32564816 0.34239511 0.33080986 0.37198899 0.34331269 0.35489794\n",
            " 0.36728612 0.34629505 0.33838036 0.3298922  0.35742147 0.35087481\n",
            " 0.34969804 0.34985316 0.35064501 0.35163531]\n",
            "5 day output [[0.35261196]]\n",
            "6 day input [0.35638908 0.35191558 0.35960089 0.34629505 0.37095669 0.36682729\n",
            " 0.36625373 0.34709798 0.34985088 0.34033042 0.34583622 0.33344803\n",
            " 0.32553343 0.32564816 0.35455384 0.34262449 0.33723333 0.34273922\n",
            " 0.34755681 0.32736867 0.32840106 0.38323005 0.34044506 0.31578351\n",
            " 0.3032806  0.31532468 0.29582474 0.30614823 0.31337462 0.31738937\n",
            " 0.33780689 0.34583622 0.32105994 0.29226891 0.29525127 0.27598079\n",
            " 0.26749254 0.27735719 0.30924532 0.30018359 0.30855702 0.3019041\n",
            " 0.29593947 0.31245705 0.31199822 0.33608629 0.42119762 0.37875664\n",
            " 0.37210372 0.34790091 0.3575362  0.34549212 0.35742147 0.35271851\n",
            " 0.25923384 0.23273688 0.24076629 0.24351919 0.20016064 0.18111953\n",
            " 0.13626984 0.16219324 0.19373718 0.20807533 0.22241348 0.19649008\n",
            " 0.22941041 0.22103698 0.23812803 0.26542793 0.25728378 0.22631341\n",
            " 0.25326912 0.27058963 0.26301904 0.25235146 0.25705441 0.25430151\n",
            " 0.29043358 0.34010096 0.33757743 0.33929802 0.32977747 0.32564816\n",
            " 0.34239511 0.33080986 0.37198899 0.34331269 0.35489794 0.36728612\n",
            " 0.34629505 0.33838036 0.3298922  0.35742147 0.35087481 0.34969804\n",
            " 0.34985316 0.35064501 0.35163531 0.35261196]\n",
            "6 day output [[0.35349944]]\n",
            "7 day input [0.35191558 0.35960089 0.34629505 0.37095669 0.36682729 0.36625373\n",
            " 0.34709798 0.34985088 0.34033042 0.34583622 0.33344803 0.32553343\n",
            " 0.32564816 0.35455384 0.34262449 0.33723333 0.34273922 0.34755681\n",
            " 0.32736867 0.32840106 0.38323005 0.34044506 0.31578351 0.3032806\n",
            " 0.31532468 0.29582474 0.30614823 0.31337462 0.31738937 0.33780689\n",
            " 0.34583622 0.32105994 0.29226891 0.29525127 0.27598079 0.26749254\n",
            " 0.27735719 0.30924532 0.30018359 0.30855702 0.3019041  0.29593947\n",
            " 0.31245705 0.31199822 0.33608629 0.42119762 0.37875664 0.37210372\n",
            " 0.34790091 0.3575362  0.34549212 0.35742147 0.35271851 0.25923384\n",
            " 0.23273688 0.24076629 0.24351919 0.20016064 0.18111953 0.13626984\n",
            " 0.16219324 0.19373718 0.20807533 0.22241348 0.19649008 0.22941041\n",
            " 0.22103698 0.23812803 0.26542793 0.25728378 0.22631341 0.25326912\n",
            " 0.27058963 0.26301904 0.25235146 0.25705441 0.25430151 0.29043358\n",
            " 0.34010096 0.33757743 0.33929802 0.32977747 0.32564816 0.34239511\n",
            " 0.33080986 0.37198899 0.34331269 0.35489794 0.36728612 0.34629505\n",
            " 0.33838036 0.3298922  0.35742147 0.35087481 0.34969804 0.34985316\n",
            " 0.35064501 0.35163531 0.35261196 0.35349944]\n",
            "7 day output [[0.35428292]]\n",
            "8 day input [0.35960089 0.34629505 0.37095669 0.36682729 0.36625373 0.34709798\n",
            " 0.34985088 0.34033042 0.34583622 0.33344803 0.32553343 0.32564816\n",
            " 0.35455384 0.34262449 0.33723333 0.34273922 0.34755681 0.32736867\n",
            " 0.32840106 0.38323005 0.34044506 0.31578351 0.3032806  0.31532468\n",
            " 0.29582474 0.30614823 0.31337462 0.31738937 0.33780689 0.34583622\n",
            " 0.32105994 0.29226891 0.29525127 0.27598079 0.26749254 0.27735719\n",
            " 0.30924532 0.30018359 0.30855702 0.3019041  0.29593947 0.31245705\n",
            " 0.31199822 0.33608629 0.42119762 0.37875664 0.37210372 0.34790091\n",
            " 0.3575362  0.34549212 0.35742147 0.35271851 0.25923384 0.23273688\n",
            " 0.24076629 0.24351919 0.20016064 0.18111953 0.13626984 0.16219324\n",
            " 0.19373718 0.20807533 0.22241348 0.19649008 0.22941041 0.22103698\n",
            " 0.23812803 0.26542793 0.25728378 0.22631341 0.25326912 0.27058963\n",
            " 0.26301904 0.25235146 0.25705441 0.25430151 0.29043358 0.34010096\n",
            " 0.33757743 0.33929802 0.32977747 0.32564816 0.34239511 0.33080986\n",
            " 0.37198899 0.34331269 0.35489794 0.36728612 0.34629505 0.33838036\n",
            " 0.3298922  0.35742147 0.35087481 0.34969804 0.34985316 0.35064501\n",
            " 0.35163531 0.35261196 0.35349944 0.35428292]\n",
            "8 day output [[0.35496688]]\n",
            "9 day input [0.34629505 0.37095669 0.36682729 0.36625373 0.34709798 0.34985088\n",
            " 0.34033042 0.34583622 0.33344803 0.32553343 0.32564816 0.35455384\n",
            " 0.34262449 0.33723333 0.34273922 0.34755681 0.32736867 0.32840106\n",
            " 0.38323005 0.34044506 0.31578351 0.3032806  0.31532468 0.29582474\n",
            " 0.30614823 0.31337462 0.31738937 0.33780689 0.34583622 0.32105994\n",
            " 0.29226891 0.29525127 0.27598079 0.26749254 0.27735719 0.30924532\n",
            " 0.30018359 0.30855702 0.3019041  0.29593947 0.31245705 0.31199822\n",
            " 0.33608629 0.42119762 0.37875664 0.37210372 0.34790091 0.3575362\n",
            " 0.34549212 0.35742147 0.35271851 0.25923384 0.23273688 0.24076629\n",
            " 0.24351919 0.20016064 0.18111953 0.13626984 0.16219324 0.19373718\n",
            " 0.20807533 0.22241348 0.19649008 0.22941041 0.22103698 0.23812803\n",
            " 0.26542793 0.25728378 0.22631341 0.25326912 0.27058963 0.26301904\n",
            " 0.25235146 0.25705441 0.25430151 0.29043358 0.34010096 0.33757743\n",
            " 0.33929802 0.32977747 0.32564816 0.34239511 0.33080986 0.37198899\n",
            " 0.34331269 0.35489794 0.36728612 0.34629505 0.33838036 0.3298922\n",
            " 0.35742147 0.35087481 0.34969804 0.34985316 0.35064501 0.35163531\n",
            " 0.35261196 0.35349944 0.35428292 0.35496688]\n",
            "9 day output [[0.35555747]]\n",
            "10 day input [0.37095669 0.36682729 0.36625373 0.34709798 0.34985088 0.34033042\n",
            " 0.34583622 0.33344803 0.32553343 0.32564816 0.35455384 0.34262449\n",
            " 0.33723333 0.34273922 0.34755681 0.32736867 0.32840106 0.38323005\n",
            " 0.34044506 0.31578351 0.3032806  0.31532468 0.29582474 0.30614823\n",
            " 0.31337462 0.31738937 0.33780689 0.34583622 0.32105994 0.29226891\n",
            " 0.29525127 0.27598079 0.26749254 0.27735719 0.30924532 0.30018359\n",
            " 0.30855702 0.3019041  0.29593947 0.31245705 0.31199822 0.33608629\n",
            " 0.42119762 0.37875664 0.37210372 0.34790091 0.3575362  0.34549212\n",
            " 0.35742147 0.35271851 0.25923384 0.23273688 0.24076629 0.24351919\n",
            " 0.20016064 0.18111953 0.13626984 0.16219324 0.19373718 0.20807533\n",
            " 0.22241348 0.19649008 0.22941041 0.22103698 0.23812803 0.26542793\n",
            " 0.25728378 0.22631341 0.25326912 0.27058963 0.26301904 0.25235146\n",
            " 0.25705441 0.25430151 0.29043358 0.34010096 0.33757743 0.33929802\n",
            " 0.32977747 0.32564816 0.34239511 0.33080986 0.37198899 0.34331269\n",
            " 0.35489794 0.36728612 0.34629505 0.33838036 0.3298922  0.35742147\n",
            " 0.35087481 0.34969804 0.34985316 0.35064501 0.35163531 0.35261196\n",
            " 0.35349944 0.35428292 0.35496688 0.35555747]\n",
            "10 day output [[0.35605887]]\n",
            "11 day input [0.36682729 0.36625373 0.34709798 0.34985088 0.34033042 0.34583622\n",
            " 0.33344803 0.32553343 0.32564816 0.35455384 0.34262449 0.33723333\n",
            " 0.34273922 0.34755681 0.32736867 0.32840106 0.38323005 0.34044506\n",
            " 0.31578351 0.3032806  0.31532468 0.29582474 0.30614823 0.31337462\n",
            " 0.31738937 0.33780689 0.34583622 0.32105994 0.29226891 0.29525127\n",
            " 0.27598079 0.26749254 0.27735719 0.30924532 0.30018359 0.30855702\n",
            " 0.3019041  0.29593947 0.31245705 0.31199822 0.33608629 0.42119762\n",
            " 0.37875664 0.37210372 0.34790091 0.3575362  0.34549212 0.35742147\n",
            " 0.35271851 0.25923384 0.23273688 0.24076629 0.24351919 0.20016064\n",
            " 0.18111953 0.13626984 0.16219324 0.19373718 0.20807533 0.22241348\n",
            " 0.19649008 0.22941041 0.22103698 0.23812803 0.26542793 0.25728378\n",
            " 0.22631341 0.25326912 0.27058963 0.26301904 0.25235146 0.25705441\n",
            " 0.25430151 0.29043358 0.34010096 0.33757743 0.33929802 0.32977747\n",
            " 0.32564816 0.34239511 0.33080986 0.37198899 0.34331269 0.35489794\n",
            " 0.36728612 0.34629505 0.33838036 0.3298922  0.35742147 0.35087481\n",
            " 0.34969804 0.34985316 0.35064501 0.35163531 0.35261196 0.35349944\n",
            " 0.35428292 0.35496688 0.35555747 0.35605887]\n",
            "11 day output [[0.35647324]]\n",
            "12 day input [0.36625373 0.34709798 0.34985088 0.34033042 0.34583622 0.33344803\n",
            " 0.32553343 0.32564816 0.35455384 0.34262449 0.33723333 0.34273922\n",
            " 0.34755681 0.32736867 0.32840106 0.38323005 0.34044506 0.31578351\n",
            " 0.3032806  0.31532468 0.29582474 0.30614823 0.31337462 0.31738937\n",
            " 0.33780689 0.34583622 0.32105994 0.29226891 0.29525127 0.27598079\n",
            " 0.26749254 0.27735719 0.30924532 0.30018359 0.30855702 0.3019041\n",
            " 0.29593947 0.31245705 0.31199822 0.33608629 0.42119762 0.37875664\n",
            " 0.37210372 0.34790091 0.3575362  0.34549212 0.35742147 0.35271851\n",
            " 0.25923384 0.23273688 0.24076629 0.24351919 0.20016064 0.18111953\n",
            " 0.13626984 0.16219324 0.19373718 0.20807533 0.22241348 0.19649008\n",
            " 0.22941041 0.22103698 0.23812803 0.26542793 0.25728378 0.22631341\n",
            " 0.25326912 0.27058963 0.26301904 0.25235146 0.25705441 0.25430151\n",
            " 0.29043358 0.34010096 0.33757743 0.33929802 0.32977747 0.32564816\n",
            " 0.34239511 0.33080986 0.37198899 0.34331269 0.35489794 0.36728612\n",
            " 0.34629505 0.33838036 0.3298922  0.35742147 0.35087481 0.34969804\n",
            " 0.34985316 0.35064501 0.35163531 0.35261196 0.35349944 0.35428292\n",
            " 0.35496688 0.35555747 0.35605887 0.35647324]\n",
            "12 day output [[0.35680336]]\n",
            "13 day input [0.34709798 0.34985088 0.34033042 0.34583622 0.33344803 0.32553343\n",
            " 0.32564816 0.35455384 0.34262449 0.33723333 0.34273922 0.34755681\n",
            " 0.32736867 0.32840106 0.38323005 0.34044506 0.31578351 0.3032806\n",
            " 0.31532468 0.29582474 0.30614823 0.31337462 0.31738937 0.33780689\n",
            " 0.34583622 0.32105994 0.29226891 0.29525127 0.27598079 0.26749254\n",
            " 0.27735719 0.30924532 0.30018359 0.30855702 0.3019041  0.29593947\n",
            " 0.31245705 0.31199822 0.33608629 0.42119762 0.37875664 0.37210372\n",
            " 0.34790091 0.3575362  0.34549212 0.35742147 0.35271851 0.25923384\n",
            " 0.23273688 0.24076629 0.24351919 0.20016064 0.18111953 0.13626984\n",
            " 0.16219324 0.19373718 0.20807533 0.22241348 0.19649008 0.22941041\n",
            " 0.22103698 0.23812803 0.26542793 0.25728378 0.22631341 0.25326912\n",
            " 0.27058963 0.26301904 0.25235146 0.25705441 0.25430151 0.29043358\n",
            " 0.34010096 0.33757743 0.33929802 0.32977747 0.32564816 0.34239511\n",
            " 0.33080986 0.37198899 0.34331269 0.35489794 0.36728612 0.34629505\n",
            " 0.33838036 0.3298922  0.35742147 0.35087481 0.34969804 0.34985316\n",
            " 0.35064501 0.35163531 0.35261196 0.35349944 0.35428292 0.35496688\n",
            " 0.35555747 0.35605887 0.35647324 0.35680336]\n",
            "13 day output [[0.35705218]]\n",
            "14 day input [0.34985088 0.34033042 0.34583622 0.33344803 0.32553343 0.32564816\n",
            " 0.35455384 0.34262449 0.33723333 0.34273922 0.34755681 0.32736867\n",
            " 0.32840106 0.38323005 0.34044506 0.31578351 0.3032806  0.31532468\n",
            " 0.29582474 0.30614823 0.31337462 0.31738937 0.33780689 0.34583622\n",
            " 0.32105994 0.29226891 0.29525127 0.27598079 0.26749254 0.27735719\n",
            " 0.30924532 0.30018359 0.30855702 0.3019041  0.29593947 0.31245705\n",
            " 0.31199822 0.33608629 0.42119762 0.37875664 0.37210372 0.34790091\n",
            " 0.3575362  0.34549212 0.35742147 0.35271851 0.25923384 0.23273688\n",
            " 0.24076629 0.24351919 0.20016064 0.18111953 0.13626984 0.16219324\n",
            " 0.19373718 0.20807533 0.22241348 0.19649008 0.22941041 0.22103698\n",
            " 0.23812803 0.26542793 0.25728378 0.22631341 0.25326912 0.27058963\n",
            " 0.26301904 0.25235146 0.25705441 0.25430151 0.29043358 0.34010096\n",
            " 0.33757743 0.33929802 0.32977747 0.32564816 0.34239511 0.33080986\n",
            " 0.37198899 0.34331269 0.35489794 0.36728612 0.34629505 0.33838036\n",
            " 0.3298922  0.35742147 0.35087481 0.34969804 0.34985316 0.35064501\n",
            " 0.35163531 0.35261196 0.35349944 0.35428292 0.35496688 0.35555747\n",
            " 0.35605887 0.35647324 0.35680336 0.35705218]\n",
            "14 day output [[0.3572248]]\n",
            "15 day input [0.34033042 0.34583622 0.33344803 0.32553343 0.32564816 0.35455384\n",
            " 0.34262449 0.33723333 0.34273922 0.34755681 0.32736867 0.32840106\n",
            " 0.38323005 0.34044506 0.31578351 0.3032806  0.31532468 0.29582474\n",
            " 0.30614823 0.31337462 0.31738937 0.33780689 0.34583622 0.32105994\n",
            " 0.29226891 0.29525127 0.27598079 0.26749254 0.27735719 0.30924532\n",
            " 0.30018359 0.30855702 0.3019041  0.29593947 0.31245705 0.31199822\n",
            " 0.33608629 0.42119762 0.37875664 0.37210372 0.34790091 0.3575362\n",
            " 0.34549212 0.35742147 0.35271851 0.25923384 0.23273688 0.24076629\n",
            " 0.24351919 0.20016064 0.18111953 0.13626984 0.16219324 0.19373718\n",
            " 0.20807533 0.22241348 0.19649008 0.22941041 0.22103698 0.23812803\n",
            " 0.26542793 0.25728378 0.22631341 0.25326912 0.27058963 0.26301904\n",
            " 0.25235146 0.25705441 0.25430151 0.29043358 0.34010096 0.33757743\n",
            " 0.33929802 0.32977747 0.32564816 0.34239511 0.33080986 0.37198899\n",
            " 0.34331269 0.35489794 0.36728612 0.34629505 0.33838036 0.3298922\n",
            " 0.35742147 0.35087481 0.34969804 0.34985316 0.35064501 0.35163531\n",
            " 0.35261196 0.35349944 0.35428292 0.35496688 0.35555747 0.35605887\n",
            " 0.35647324 0.35680336 0.35705218 0.35722479]\n",
            "15 day output [[0.35732687]]\n",
            "16 day input [0.34583622 0.33344803 0.32553343 0.32564816 0.35455384 0.34262449\n",
            " 0.33723333 0.34273922 0.34755681 0.32736867 0.32840106 0.38323005\n",
            " 0.34044506 0.31578351 0.3032806  0.31532468 0.29582474 0.30614823\n",
            " 0.31337462 0.31738937 0.33780689 0.34583622 0.32105994 0.29226891\n",
            " 0.29525127 0.27598079 0.26749254 0.27735719 0.30924532 0.30018359\n",
            " 0.30855702 0.3019041  0.29593947 0.31245705 0.31199822 0.33608629\n",
            " 0.42119762 0.37875664 0.37210372 0.34790091 0.3575362  0.34549212\n",
            " 0.35742147 0.35271851 0.25923384 0.23273688 0.24076629 0.24351919\n",
            " 0.20016064 0.18111953 0.13626984 0.16219324 0.19373718 0.20807533\n",
            " 0.22241348 0.19649008 0.22941041 0.22103698 0.23812803 0.26542793\n",
            " 0.25728378 0.22631341 0.25326912 0.27058963 0.26301904 0.25235146\n",
            " 0.25705441 0.25430151 0.29043358 0.34010096 0.33757743 0.33929802\n",
            " 0.32977747 0.32564816 0.34239511 0.33080986 0.37198899 0.34331269\n",
            " 0.35489794 0.36728612 0.34629505 0.33838036 0.3298922  0.35742147\n",
            " 0.35087481 0.34969804 0.34985316 0.35064501 0.35163531 0.35261196\n",
            " 0.35349944 0.35428292 0.35496688 0.35555747 0.35605887 0.35647324\n",
            " 0.35680336 0.35705218 0.35722479 0.35732687]\n",
            "16 day output [[0.35736486]]\n",
            "17 day input [0.33344803 0.32553343 0.32564816 0.35455384 0.34262449 0.33723333\n",
            " 0.34273922 0.34755681 0.32736867 0.32840106 0.38323005 0.34044506\n",
            " 0.31578351 0.3032806  0.31532468 0.29582474 0.30614823 0.31337462\n",
            " 0.31738937 0.33780689 0.34583622 0.32105994 0.29226891 0.29525127\n",
            " 0.27598079 0.26749254 0.27735719 0.30924532 0.30018359 0.30855702\n",
            " 0.3019041  0.29593947 0.31245705 0.31199822 0.33608629 0.42119762\n",
            " 0.37875664 0.37210372 0.34790091 0.3575362  0.34549212 0.35742147\n",
            " 0.35271851 0.25923384 0.23273688 0.24076629 0.24351919 0.20016064\n",
            " 0.18111953 0.13626984 0.16219324 0.19373718 0.20807533 0.22241348\n",
            " 0.19649008 0.22941041 0.22103698 0.23812803 0.26542793 0.25728378\n",
            " 0.22631341 0.25326912 0.27058963 0.26301904 0.25235146 0.25705441\n",
            " 0.25430151 0.29043358 0.34010096 0.33757743 0.33929802 0.32977747\n",
            " 0.32564816 0.34239511 0.33080986 0.37198899 0.34331269 0.35489794\n",
            " 0.36728612 0.34629505 0.33838036 0.3298922  0.35742147 0.35087481\n",
            " 0.34969804 0.34985316 0.35064501 0.35163531 0.35261196 0.35349944\n",
            " 0.35428292 0.35496688 0.35555747 0.35605887 0.35647324 0.35680336\n",
            " 0.35705218 0.35722479 0.35732687 0.35736486]\n",
            "17 day output [[0.35734522]]\n",
            "18 day input [0.32553343 0.32564816 0.35455384 0.34262449 0.33723333 0.34273922\n",
            " 0.34755681 0.32736867 0.32840106 0.38323005 0.34044506 0.31578351\n",
            " 0.3032806  0.31532468 0.29582474 0.30614823 0.31337462 0.31738937\n",
            " 0.33780689 0.34583622 0.32105994 0.29226891 0.29525127 0.27598079\n",
            " 0.26749254 0.27735719 0.30924532 0.30018359 0.30855702 0.3019041\n",
            " 0.29593947 0.31245705 0.31199822 0.33608629 0.42119762 0.37875664\n",
            " 0.37210372 0.34790091 0.3575362  0.34549212 0.35742147 0.35271851\n",
            " 0.25923384 0.23273688 0.24076629 0.24351919 0.20016064 0.18111953\n",
            " 0.13626984 0.16219324 0.19373718 0.20807533 0.22241348 0.19649008\n",
            " 0.22941041 0.22103698 0.23812803 0.26542793 0.25728378 0.22631341\n",
            " 0.25326912 0.27058963 0.26301904 0.25235146 0.25705441 0.25430151\n",
            " 0.29043358 0.34010096 0.33757743 0.33929802 0.32977747 0.32564816\n",
            " 0.34239511 0.33080986 0.37198899 0.34331269 0.35489794 0.36728612\n",
            " 0.34629505 0.33838036 0.3298922  0.35742147 0.35087481 0.34969804\n",
            " 0.34985316 0.35064501 0.35163531 0.35261196 0.35349944 0.35428292\n",
            " 0.35496688 0.35555747 0.35605887 0.35647324 0.35680336 0.35705218\n",
            " 0.35722479 0.35732687 0.35736486 0.35734522]\n",
            "18 day output [[0.35727426]]\n",
            "19 day input [0.32564816 0.35455384 0.34262449 0.33723333 0.34273922 0.34755681\n",
            " 0.32736867 0.32840106 0.38323005 0.34044506 0.31578351 0.3032806\n",
            " 0.31532468 0.29582474 0.30614823 0.31337462 0.31738937 0.33780689\n",
            " 0.34583622 0.32105994 0.29226891 0.29525127 0.27598079 0.26749254\n",
            " 0.27735719 0.30924532 0.30018359 0.30855702 0.3019041  0.29593947\n",
            " 0.31245705 0.31199822 0.33608629 0.42119762 0.37875664 0.37210372\n",
            " 0.34790091 0.3575362  0.34549212 0.35742147 0.35271851 0.25923384\n",
            " 0.23273688 0.24076629 0.24351919 0.20016064 0.18111953 0.13626984\n",
            " 0.16219324 0.19373718 0.20807533 0.22241348 0.19649008 0.22941041\n",
            " 0.22103698 0.23812803 0.26542793 0.25728378 0.22631341 0.25326912\n",
            " 0.27058963 0.26301904 0.25235146 0.25705441 0.25430151 0.29043358\n",
            " 0.34010096 0.33757743 0.33929802 0.32977747 0.32564816 0.34239511\n",
            " 0.33080986 0.37198899 0.34331269 0.35489794 0.36728612 0.34629505\n",
            " 0.33838036 0.3298922  0.35742147 0.35087481 0.34969804 0.34985316\n",
            " 0.35064501 0.35163531 0.35261196 0.35349944 0.35428292 0.35496688\n",
            " 0.35555747 0.35605887 0.35647324 0.35680336 0.35705218 0.35722479\n",
            " 0.35732687 0.35736486 0.35734522 0.35727426]\n",
            "19 day output [[0.3571581]]\n",
            "20 day input [0.35455384 0.34262449 0.33723333 0.34273922 0.34755681 0.32736867\n",
            " 0.32840106 0.38323005 0.34044506 0.31578351 0.3032806  0.31532468\n",
            " 0.29582474 0.30614823 0.31337462 0.31738937 0.33780689 0.34583622\n",
            " 0.32105994 0.29226891 0.29525127 0.27598079 0.26749254 0.27735719\n",
            " 0.30924532 0.30018359 0.30855702 0.3019041  0.29593947 0.31245705\n",
            " 0.31199822 0.33608629 0.42119762 0.37875664 0.37210372 0.34790091\n",
            " 0.3575362  0.34549212 0.35742147 0.35271851 0.25923384 0.23273688\n",
            " 0.24076629 0.24351919 0.20016064 0.18111953 0.13626984 0.16219324\n",
            " 0.19373718 0.20807533 0.22241348 0.19649008 0.22941041 0.22103698\n",
            " 0.23812803 0.26542793 0.25728378 0.22631341 0.25326912 0.27058963\n",
            " 0.26301904 0.25235146 0.25705441 0.25430151 0.29043358 0.34010096\n",
            " 0.33757743 0.33929802 0.32977747 0.32564816 0.34239511 0.33080986\n",
            " 0.37198899 0.34331269 0.35489794 0.36728612 0.34629505 0.33838036\n",
            " 0.3298922  0.35742147 0.35087481 0.34969804 0.34985316 0.35064501\n",
            " 0.35163531 0.35261196 0.35349944 0.35428292 0.35496688 0.35555747\n",
            " 0.35605887 0.35647324 0.35680336 0.35705218 0.35722479 0.35732687\n",
            " 0.35736486 0.35734522 0.35727426 0.35715809]\n",
            "20 day output [[0.35700226]]\n",
            "21 day input [0.34262449 0.33723333 0.34273922 0.34755681 0.32736867 0.32840106\n",
            " 0.38323005 0.34044506 0.31578351 0.3032806  0.31532468 0.29582474\n",
            " 0.30614823 0.31337462 0.31738937 0.33780689 0.34583622 0.32105994\n",
            " 0.29226891 0.29525127 0.27598079 0.26749254 0.27735719 0.30924532\n",
            " 0.30018359 0.30855702 0.3019041  0.29593947 0.31245705 0.31199822\n",
            " 0.33608629 0.42119762 0.37875664 0.37210372 0.34790091 0.3575362\n",
            " 0.34549212 0.35742147 0.35271851 0.25923384 0.23273688 0.24076629\n",
            " 0.24351919 0.20016064 0.18111953 0.13626984 0.16219324 0.19373718\n",
            " 0.20807533 0.22241348 0.19649008 0.22941041 0.22103698 0.23812803\n",
            " 0.26542793 0.25728378 0.22631341 0.25326912 0.27058963 0.26301904\n",
            " 0.25235146 0.25705441 0.25430151 0.29043358 0.34010096 0.33757743\n",
            " 0.33929802 0.32977747 0.32564816 0.34239511 0.33080986 0.37198899\n",
            " 0.34331269 0.35489794 0.36728612 0.34629505 0.33838036 0.3298922\n",
            " 0.35742147 0.35087481 0.34969804 0.34985316 0.35064501 0.35163531\n",
            " 0.35261196 0.35349944 0.35428292 0.35496688 0.35555747 0.35605887\n",
            " 0.35647324 0.35680336 0.35705218 0.35722479 0.35732687 0.35736486\n",
            " 0.35734522 0.35727426 0.35715809 0.35700226]\n",
            "21 day output [[0.35681152]]\n",
            "22 day input [0.33723333 0.34273922 0.34755681 0.32736867 0.32840106 0.38323005\n",
            " 0.34044506 0.31578351 0.3032806  0.31532468 0.29582474 0.30614823\n",
            " 0.31337462 0.31738937 0.33780689 0.34583622 0.32105994 0.29226891\n",
            " 0.29525127 0.27598079 0.26749254 0.27735719 0.30924532 0.30018359\n",
            " 0.30855702 0.3019041  0.29593947 0.31245705 0.31199822 0.33608629\n",
            " 0.42119762 0.37875664 0.37210372 0.34790091 0.3575362  0.34549212\n",
            " 0.35742147 0.35271851 0.25923384 0.23273688 0.24076629 0.24351919\n",
            " 0.20016064 0.18111953 0.13626984 0.16219324 0.19373718 0.20807533\n",
            " 0.22241348 0.19649008 0.22941041 0.22103698 0.23812803 0.26542793\n",
            " 0.25728378 0.22631341 0.25326912 0.27058963 0.26301904 0.25235146\n",
            " 0.25705441 0.25430151 0.29043358 0.34010096 0.33757743 0.33929802\n",
            " 0.32977747 0.32564816 0.34239511 0.33080986 0.37198899 0.34331269\n",
            " 0.35489794 0.36728612 0.34629505 0.33838036 0.3298922  0.35742147\n",
            " 0.35087481 0.34969804 0.34985316 0.35064501 0.35163531 0.35261196\n",
            " 0.35349944 0.35428292 0.35496688 0.35555747 0.35605887 0.35647324\n",
            " 0.35680336 0.35705218 0.35722479 0.35732687 0.35736486 0.35734522\n",
            " 0.35727426 0.35715809 0.35700226 0.35681152]\n",
            "22 day output [[0.35659048]]\n",
            "23 day input [0.34273922 0.34755681 0.32736867 0.32840106 0.38323005 0.34044506\n",
            " 0.31578351 0.3032806  0.31532468 0.29582474 0.30614823 0.31337462\n",
            " 0.31738937 0.33780689 0.34583622 0.32105994 0.29226891 0.29525127\n",
            " 0.27598079 0.26749254 0.27735719 0.30924532 0.30018359 0.30855702\n",
            " 0.3019041  0.29593947 0.31245705 0.31199822 0.33608629 0.42119762\n",
            " 0.37875664 0.37210372 0.34790091 0.3575362  0.34549212 0.35742147\n",
            " 0.35271851 0.25923384 0.23273688 0.24076629 0.24351919 0.20016064\n",
            " 0.18111953 0.13626984 0.16219324 0.19373718 0.20807533 0.22241348\n",
            " 0.19649008 0.22941041 0.22103698 0.23812803 0.26542793 0.25728378\n",
            " 0.22631341 0.25326912 0.27058963 0.26301904 0.25235146 0.25705441\n",
            " 0.25430151 0.29043358 0.34010096 0.33757743 0.33929802 0.32977747\n",
            " 0.32564816 0.34239511 0.33080986 0.37198899 0.34331269 0.35489794\n",
            " 0.36728612 0.34629505 0.33838036 0.3298922  0.35742147 0.35087481\n",
            " 0.34969804 0.34985316 0.35064501 0.35163531 0.35261196 0.35349944\n",
            " 0.35428292 0.35496688 0.35555747 0.35605887 0.35647324 0.35680336\n",
            " 0.35705218 0.35722479 0.35732687 0.35736486 0.35734522 0.35727426\n",
            " 0.35715809 0.35700226 0.35681152 0.35659048]\n",
            "23 day output [[0.35634303]]\n",
            "24 day input [0.34755681 0.32736867 0.32840106 0.38323005 0.34044506 0.31578351\n",
            " 0.3032806  0.31532468 0.29582474 0.30614823 0.31337462 0.31738937\n",
            " 0.33780689 0.34583622 0.32105994 0.29226891 0.29525127 0.27598079\n",
            " 0.26749254 0.27735719 0.30924532 0.30018359 0.30855702 0.3019041\n",
            " 0.29593947 0.31245705 0.31199822 0.33608629 0.42119762 0.37875664\n",
            " 0.37210372 0.34790091 0.3575362  0.34549212 0.35742147 0.35271851\n",
            " 0.25923384 0.23273688 0.24076629 0.24351919 0.20016064 0.18111953\n",
            " 0.13626984 0.16219324 0.19373718 0.20807533 0.22241348 0.19649008\n",
            " 0.22941041 0.22103698 0.23812803 0.26542793 0.25728378 0.22631341\n",
            " 0.25326912 0.27058963 0.26301904 0.25235146 0.25705441 0.25430151\n",
            " 0.29043358 0.34010096 0.33757743 0.33929802 0.32977747 0.32564816\n",
            " 0.34239511 0.33080986 0.37198899 0.34331269 0.35489794 0.36728612\n",
            " 0.34629505 0.33838036 0.3298922  0.35742147 0.35087481 0.34969804\n",
            " 0.34985316 0.35064501 0.35163531 0.35261196 0.35349944 0.35428292\n",
            " 0.35496688 0.35555747 0.35605887 0.35647324 0.35680336 0.35705218\n",
            " 0.35722479 0.35732687 0.35736486 0.35734522 0.35727426 0.35715809\n",
            " 0.35700226 0.35681152 0.35659048 0.35634303]\n",
            "24 day output [[0.35607255]]\n",
            "25 day input [0.32736867 0.32840106 0.38323005 0.34044506 0.31578351 0.3032806\n",
            " 0.31532468 0.29582474 0.30614823 0.31337462 0.31738937 0.33780689\n",
            " 0.34583622 0.32105994 0.29226891 0.29525127 0.27598079 0.26749254\n",
            " 0.27735719 0.30924532 0.30018359 0.30855702 0.3019041  0.29593947\n",
            " 0.31245705 0.31199822 0.33608629 0.42119762 0.37875664 0.37210372\n",
            " 0.34790091 0.3575362  0.34549212 0.35742147 0.35271851 0.25923384\n",
            " 0.23273688 0.24076629 0.24351919 0.20016064 0.18111953 0.13626984\n",
            " 0.16219324 0.19373718 0.20807533 0.22241348 0.19649008 0.22941041\n",
            " 0.22103698 0.23812803 0.26542793 0.25728378 0.22631341 0.25326912\n",
            " 0.27058963 0.26301904 0.25235146 0.25705441 0.25430151 0.29043358\n",
            " 0.34010096 0.33757743 0.33929802 0.32977747 0.32564816 0.34239511\n",
            " 0.33080986 0.37198899 0.34331269 0.35489794 0.36728612 0.34629505\n",
            " 0.33838036 0.3298922  0.35742147 0.35087481 0.34969804 0.34985316\n",
            " 0.35064501 0.35163531 0.35261196 0.35349944 0.35428292 0.35496688\n",
            " 0.35555747 0.35605887 0.35647324 0.35680336 0.35705218 0.35722479\n",
            " 0.35732687 0.35736486 0.35734522 0.35727426 0.35715809 0.35700226\n",
            " 0.35681152 0.35659048 0.35634303 0.35607255]\n",
            "25 day output [[0.35578218]]\n",
            "26 day input [0.32840106 0.38323005 0.34044506 0.31578351 0.3032806  0.31532468\n",
            " 0.29582474 0.30614823 0.31337462 0.31738937 0.33780689 0.34583622\n",
            " 0.32105994 0.29226891 0.29525127 0.27598079 0.26749254 0.27735719\n",
            " 0.30924532 0.30018359 0.30855702 0.3019041  0.29593947 0.31245705\n",
            " 0.31199822 0.33608629 0.42119762 0.37875664 0.37210372 0.34790091\n",
            " 0.3575362  0.34549212 0.35742147 0.35271851 0.25923384 0.23273688\n",
            " 0.24076629 0.24351919 0.20016064 0.18111953 0.13626984 0.16219324\n",
            " 0.19373718 0.20807533 0.22241348 0.19649008 0.22941041 0.22103698\n",
            " 0.23812803 0.26542793 0.25728378 0.22631341 0.25326912 0.27058963\n",
            " 0.26301904 0.25235146 0.25705441 0.25430151 0.29043358 0.34010096\n",
            " 0.33757743 0.33929802 0.32977747 0.32564816 0.34239511 0.33080986\n",
            " 0.37198899 0.34331269 0.35489794 0.36728612 0.34629505 0.33838036\n",
            " 0.3298922  0.35742147 0.35087481 0.34969804 0.34985316 0.35064501\n",
            " 0.35163531 0.35261196 0.35349944 0.35428292 0.35496688 0.35555747\n",
            " 0.35605887 0.35647324 0.35680336 0.35705218 0.35722479 0.35732687\n",
            " 0.35736486 0.35734522 0.35727426 0.35715809 0.35700226 0.35681152\n",
            " 0.35659048 0.35634303 0.35607255 0.35578218]\n",
            "26 day output [[0.35547444]]\n",
            "27 day input [0.38323005 0.34044506 0.31578351 0.3032806  0.31532468 0.29582474\n",
            " 0.30614823 0.31337462 0.31738937 0.33780689 0.34583622 0.32105994\n",
            " 0.29226891 0.29525127 0.27598079 0.26749254 0.27735719 0.30924532\n",
            " 0.30018359 0.30855702 0.3019041  0.29593947 0.31245705 0.31199822\n",
            " 0.33608629 0.42119762 0.37875664 0.37210372 0.34790091 0.3575362\n",
            " 0.34549212 0.35742147 0.35271851 0.25923384 0.23273688 0.24076629\n",
            " 0.24351919 0.20016064 0.18111953 0.13626984 0.16219324 0.19373718\n",
            " 0.20807533 0.22241348 0.19649008 0.22941041 0.22103698 0.23812803\n",
            " 0.26542793 0.25728378 0.22631341 0.25326912 0.27058963 0.26301904\n",
            " 0.25235146 0.25705441 0.25430151 0.29043358 0.34010096 0.33757743\n",
            " 0.33929802 0.32977747 0.32564816 0.34239511 0.33080986 0.37198899\n",
            " 0.34331269 0.35489794 0.36728612 0.34629505 0.33838036 0.3298922\n",
            " 0.35742147 0.35087481 0.34969804 0.34985316 0.35064501 0.35163531\n",
            " 0.35261196 0.35349944 0.35428292 0.35496688 0.35555747 0.35605887\n",
            " 0.35647324 0.35680336 0.35705218 0.35722479 0.35732687 0.35736486\n",
            " 0.35734522 0.35727426 0.35715809 0.35700226 0.35681152 0.35659048\n",
            " 0.35634303 0.35607255 0.35578218 0.35547444]\n",
            "27 day output [[0.3551518]]\n",
            "28 day input [0.34044506 0.31578351 0.3032806  0.31532468 0.29582474 0.30614823\n",
            " 0.31337462 0.31738937 0.33780689 0.34583622 0.32105994 0.29226891\n",
            " 0.29525127 0.27598079 0.26749254 0.27735719 0.30924532 0.30018359\n",
            " 0.30855702 0.3019041  0.29593947 0.31245705 0.31199822 0.33608629\n",
            " 0.42119762 0.37875664 0.37210372 0.34790091 0.3575362  0.34549212\n",
            " 0.35742147 0.35271851 0.25923384 0.23273688 0.24076629 0.24351919\n",
            " 0.20016064 0.18111953 0.13626984 0.16219324 0.19373718 0.20807533\n",
            " 0.22241348 0.19649008 0.22941041 0.22103698 0.23812803 0.26542793\n",
            " 0.25728378 0.22631341 0.25326912 0.27058963 0.26301904 0.25235146\n",
            " 0.25705441 0.25430151 0.29043358 0.34010096 0.33757743 0.33929802\n",
            " 0.32977747 0.32564816 0.34239511 0.33080986 0.37198899 0.34331269\n",
            " 0.35489794 0.36728612 0.34629505 0.33838036 0.3298922  0.35742147\n",
            " 0.35087481 0.34969804 0.34985316 0.35064501 0.35163531 0.35261196\n",
            " 0.35349944 0.35428292 0.35496688 0.35555747 0.35605887 0.35647324\n",
            " 0.35680336 0.35705218 0.35722479 0.35732687 0.35736486 0.35734522\n",
            " 0.35727426 0.35715809 0.35700226 0.35681152 0.35659048 0.35634303\n",
            " 0.35607255 0.35578218 0.35547444 0.3551518 ]\n",
            "28 day output [[0.3548166]]\n",
            "29 day input [0.31578351 0.3032806  0.31532468 0.29582474 0.30614823 0.31337462\n",
            " 0.31738937 0.33780689 0.34583622 0.32105994 0.29226891 0.29525127\n",
            " 0.27598079 0.26749254 0.27735719 0.30924532 0.30018359 0.30855702\n",
            " 0.3019041  0.29593947 0.31245705 0.31199822 0.33608629 0.42119762\n",
            " 0.37875664 0.37210372 0.34790091 0.3575362  0.34549212 0.35742147\n",
            " 0.35271851 0.25923384 0.23273688 0.24076629 0.24351919 0.20016064\n",
            " 0.18111953 0.13626984 0.16219324 0.19373718 0.20807533 0.22241348\n",
            " 0.19649008 0.22941041 0.22103698 0.23812803 0.26542793 0.25728378\n",
            " 0.22631341 0.25326912 0.27058963 0.26301904 0.25235146 0.25705441\n",
            " 0.25430151 0.29043358 0.34010096 0.33757743 0.33929802 0.32977747\n",
            " 0.32564816 0.34239511 0.33080986 0.37198899 0.34331269 0.35489794\n",
            " 0.36728612 0.34629505 0.33838036 0.3298922  0.35742147 0.35087481\n",
            " 0.34969804 0.34985316 0.35064501 0.35163531 0.35261196 0.35349944\n",
            " 0.35428292 0.35496688 0.35555747 0.35605887 0.35647324 0.35680336\n",
            " 0.35705218 0.35722479 0.35732687 0.35736486 0.35734522 0.35727426\n",
            " 0.35715809 0.35700226 0.35681152 0.35659048 0.35634303 0.35607255\n",
            " 0.35578218 0.35547444 0.3551518  0.35481659]\n",
            "29 day output [[0.35447043]]\n",
            "[[0.35087481141090393], [0.3496980369091034], [0.34985315799713135], [0.3506450057029724], [0.35163530707359314], [0.3526119589805603], [0.3534994423389435], [0.3542829155921936], [0.3549668788909912], [0.35555747151374817], [0.35605886578559875], [0.35647323727607727], [0.35680335760116577], [0.35705217719078064], [0.35722479224205017], [0.357326865196228], [0.35736486315727234], [0.35734522342681885], [0.35727426409721375], [0.3571580946445465], [0.35700225830078125], [0.3568115234375], [0.35659047961235046], [0.35634303092956543], [0.3560725450515747], [0.3557821810245514], [0.35547444224357605], [0.35515180230140686], [0.35481658577919006], [0.354470431804657]]\n"
          ],
          "name": "stdout"
        }
      ]
    },
    {
      "cell_type": "markdown",
      "metadata": {
        "id": "6myKmHeUYD9y"
      },
      "source": [
        "## Prediction for 100 days"
      ]
    },
    {
      "cell_type": "code",
      "metadata": {
        "id": "LyeSqXJcbvBI"
      },
      "source": [
        "day_new=np.arange(1,101)\r\n",
        "day_pred=np.arange(101,131)"
      ],
      "execution_count": null,
      "outputs": []
    },
    {
      "cell_type": "code",
      "metadata": {
        "colab": {
          "base_uri": "https://localhost:8080/"
        },
        "id": "ySXbQEJAdXuQ",
        "outputId": "95c2976f-077a-4468-f688-0fb9db0c9f47"
      },
      "source": [
        "len(data1)"
      ],
      "execution_count": null,
      "outputs": [
        {
          "output_type": "execute_result",
          "data": {
            "text/plain": [
              "996"
            ]
          },
          "metadata": {
            "tags": []
          },
          "execution_count": 36
        }
      ]
    },
    {
      "cell_type": "markdown",
      "metadata": {
        "id": "9ypSNzWeYLBI"
      },
      "source": [
        "## Visualizing Prediction"
      ]
    },
    {
      "cell_type": "code",
      "metadata": {
        "colab": {
          "base_uri": "https://localhost:8080/",
          "height": 265
        },
        "id": "XpekWPA6daCI",
        "outputId": "4019ffec-6bca-4a1c-bec1-6e98a1601408"
      },
      "source": [
        "plt.plot(day_new,scaler.inverse_transform(data1[896:]))\r\n",
        "plt.plot(day_pred,scaler.inverse_transform(lst_output));"
      ],
      "execution_count": null,
      "outputs": [
        {
          "output_type": "display_data",
          "data": {
            "image/png": "[encoded data removed]",
            "text/plain": [
              "<Figure size 432x288 with 1 Axes>"
            ]
          },
          "metadata": {
            "tags": []
          }
        }
      ]
    },
    {
      "cell_type": "markdown",
      "metadata": {
        "id": "cuVqQVFiYQEF"
      },
      "source": [
        "## Prediction"
      ]
    },
    {
      "cell_type": "code",
      "metadata": {
        "colab": {
          "base_uri": "https://localhost:8080/",
          "height": 265
        },
        "id": "U80Or0LndcFl",
        "outputId": "c5a0c512-a95e-4ab7-d1ae-feb5e84bb375"
      },
      "source": [
        "df3=data1.tolist()\r\n",
        "df3.extend(lst_output)\r\n",
        "plt.plot(df3[780:]);"
      ],
      "execution_count": null,
      "outputs": [
        {
          "output_type": "display_data",
          "data": {
            "image/png": "[encoded data removed]",
            "text/plain": [
              "<Figure size 432x288 with 1 Axes>"
            ]
          },
          "metadata": {
            "tags": []
          }
        }
      ]
    },
    {
      "cell_type": "code",
      "metadata": {
        "colab": {
          "base_uri": "https://localhost:8080/",
          "height": 265
        },
        "id": "zmyy40VNeGv-",
        "outputId": "7e54e91b-f60e-4acc-cec9-9ab38b9ed267"
      },
      "source": [
        " df3=data1.tolist()\r\n",
        "df3.extend(lst_output)\r\n",
        "plt.plot(df3[780:]);"
      ],
      "execution_count": null,
      "outputs": [
        {
          "output_type": "display_data",
          "data": {
            "image/png": "[encoded data removed]",
            "text/plain": [
              "<Figure size 432x288 with 1 Axes>"
            ]
          },
          "metadata": {
            "tags": []
          }
        }
      ]
    },
    {
      "cell_type": "code",
      "metadata": {
        "id": "aBUNUyu4eaKB"
      },
      "source": [
        "df3=scaler.inverse_transform(df3).tolist()"
      ],
      "execution_count": null,
      "outputs": []
    },
    {
      "cell_type": "code",
      "metadata": {
        "colab": {
          "base_uri": "https://localhost:8080/",
          "height": 282
        },
        "id": "G3iww5JHedJL",
        "outputId": "eedac75e-45ae-41dd-e09c-1a0d540302c1"
      },
      "source": [
        "plt.plot(df3)"
      ],
      "execution_count": null,
      "outputs": [
        {
          "output_type": "execute_result",
          "data": {
            "text/plain": [
              "[<matplotlib.lines.Line2D at 0x7f1aa69e9978>]"
            ]
          },
          "metadata": {
            "tags": []
          },
          "execution_count": 41
        },
        {
          "output_type": "display_data",
          "data": {
            "image/png": "[encoded data removed]",
            "text/plain": [
              "<Figure size 432x288 with 1 Axes>"
            ]
          },
          "metadata": {
            "tags": []
          }
        }
      ]
    },
    {
      "cell_type": "markdown",
      "metadata": {
        "id": "-vpYshoHelwJ"
      },
      "source": [
        "## Steps are involved in Stock Sentiment Analysis"
      ]
    },
    {
      "cell_type": "markdown",
      "metadata": {
        "id": "vG_H29b8Ya1l"
      },
      "source": [
        "### Packages"
      ]
    },
    {
      "cell_type": "code",
      "metadata": {
        "id": "T-cxCpCFee3u"
      },
      "source": [
        "import pandas as pd"
      ],
      "execution_count": null,
      "outputs": []
    },
    {
      "cell_type": "code",
      "metadata": {
        "colab": {
          "base_uri": "https://localhost:8080/"
        },
        "id": "VAGvqoqHkexZ",
        "outputId": "8d6eecdc-3242-44c5-a7ac-e87154cd1569"
      },
      "source": [
        "from google.colab import drive\r\n",
        "drive.mount('/content/drive/')"
      ],
      "execution_count": null,
      "outputs": [
        {
          "output_type": "stream",
          "text": [
            "Drive already mounted at /content/drive/; to attempt to forcibly remount, call drive.mount(\"/content/drive/\", force_remount=True).\n"
          ],
          "name": "stdout"
        }
      ]
    },
    {
      "cell_type": "markdown",
      "metadata": {
        "id": "So0-zNAyYdg7"
      },
      "source": [
        "## Importing Data"
      ]
    },
    {
      "cell_type": "code",
      "metadata": {
        "id": "_m-mXkPzetIY"
      },
      "source": [
        "df=pd.read_csv('/content/drive/MyDrive/Data/news.csv', encoding = \"ISO-8859-1\")"
      ],
      "execution_count": null,
      "outputs": []
    },
    {
      "cell_type": "code",
      "metadata": {
        "colab": {
          "base_uri": "https://localhost:8080/",
          "height": 768
        },
        "id": "Y5abH6D0euYZ",
        "outputId": "64d5fac6-bac3-4f56-b371-295e3e76229a"
      },
      "source": [
        "df.head()"
      ],
      "execution_count": null,
      "outputs": [
        {
          "output_type": "execute_result",
          "data": {
            "text/html": [
              "<div>\n",
              "<style scoped>\n",
              "    .dataframe tbody tr th:only-of-type {\n",
              "        vertical-align: middle;\n",
              "    }\n",
              "\n",
              "    .dataframe tbody tr th {\n",
              "        vertical-align: top;\n",
              "    }\n",
              "\n",
              "    .dataframe thead th {\n",
              "        text-align: right;\n",
              "    }\n",
              "</style>\n",
              "<table border=\"1\" class=\"dataframe\">\n",
              "  <thead>\n",
              "    <tr style=\"text-align: right;\">\n",
              "      <th></th>\n",
              "      <th>Date</th>\n",
              "      <th>Label</th>\n",
              "      <th>Top1</th>\n",
              "      <th>Top2</th>\n",
              "      <th>Top3</th>\n",
              "      <th>Top4</th>\n",
              "      <th>Top5</th>\n",
              "      <th>Top6</th>\n",
              "      <th>Top7</th>\n",
              "      <th>Top8</th>\n",
              "      <th>Top9</th>\n",
              "      <th>Top10</th>\n",
              "      <th>Top11</th>\n",
              "      <th>Top12</th>\n",
              "      <th>Top13</th>\n",
              "      <th>Top14</th>\n",
              "      <th>Top15</th>\n",
              "      <th>Top16</th>\n",
              "      <th>Top17</th>\n",
              "      <th>Top18</th>\n",
              "      <th>Top19</th>\n",
              "      <th>Top20</th>\n",
              "      <th>Top21</th>\n",
              "      <th>Top22</th>\n",
              "      <th>Top23</th>\n",
              "      <th>Top24</th>\n",
              "      <th>Top25</th>\n",
              "    </tr>\n",
              "  </thead>\n",
              "  <tbody>\n",
              "    <tr>\n",
              "      <th>0</th>\n",
              "      <td>2000-01-03</td>\n",
              "      <td>0</td>\n",
              "      <td>A 'hindrance to operations': extracts from the...</td>\n",
              "      <td>Scorecard</td>\n",
              "      <td>Hughes' instant hit buoys Blues</td>\n",
              "      <td>Jack gets his skates on at ice-cold Alex</td>\n",
              "      <td>Chaos as Maracana builds up for United</td>\n",
              "      <td>Depleted Leicester prevail as Elliott spoils E...</td>\n",
              "      <td>Hungry Spurs sense rich pickings</td>\n",
              "      <td>Gunners so wide of an easy target</td>\n",
              "      <td>Derby raise a glass to Strupar's debut double</td>\n",
              "      <td>Southgate strikes, Leeds pay the penalty</td>\n",
              "      <td>Hammers hand Robson a youthful lesson</td>\n",
              "      <td>Saints party like it's 1999</td>\n",
              "      <td>Wear wolves have turned into lambs</td>\n",
              "      <td>Stump mike catches testy Gough's taunt</td>\n",
              "      <td>Langer escapes to hit 167</td>\n",
              "      <td>Flintoff injury piles on woe for England</td>\n",
              "      <td>Hunters threaten Jospin with new battle of the...</td>\n",
              "      <td>Kohl's successor drawn into scandal</td>\n",
              "      <td>The difference between men and women</td>\n",
              "      <td>Sara Denver, nurse turned solicitor</td>\n",
              "      <td>Diana's landmine crusade put Tories in a panic</td>\n",
              "      <td>Yeltsin's resignation caught opposition flat-f...</td>\n",
              "      <td>Russian roulette</td>\n",
              "      <td>Sold out</td>\n",
              "      <td>Recovering a title</td>\n",
              "    </tr>\n",
              "    <tr>\n",
              "      <th>1</th>\n",
              "      <td>2000-01-04</td>\n",
              "      <td>0</td>\n",
              "      <td>Scorecard</td>\n",
              "      <td>The best lake scene</td>\n",
              "      <td>Leader: German sleaze inquiry</td>\n",
              "      <td>Cheerio, boyo</td>\n",
              "      <td>The main recommendations</td>\n",
              "      <td>Has Cubie killed fees?</td>\n",
              "      <td>Has Cubie killed fees?</td>\n",
              "      <td>Has Cubie killed fees?</td>\n",
              "      <td>Hopkins 'furious' at Foster's lack of Hannibal...</td>\n",
              "      <td>Has Cubie killed fees?</td>\n",
              "      <td>A tale of two tails</td>\n",
              "      <td>I say what I like and I like what I say</td>\n",
              "      <td>Elbows, Eyes and Nipples</td>\n",
              "      <td>Task force to assess risk of asteroid collision</td>\n",
              "      <td>How I found myself at last</td>\n",
              "      <td>On the critical list</td>\n",
              "      <td>The timing of their lives</td>\n",
              "      <td>Dear doctor</td>\n",
              "      <td>Irish court halts IRA man's extradition to Nor...</td>\n",
              "      <td>Burundi peace initiative fades after rebels re...</td>\n",
              "      <td>PE points the way forward to the ECB</td>\n",
              "      <td>Campaigners keep up pressure on Nazi war crime...</td>\n",
              "      <td>Jane Ratcliffe</td>\n",
              "      <td>Yet more things you wouldn't know without the ...</td>\n",
              "      <td>Millennium bug fails to bite</td>\n",
              "    </tr>\n",
              "    <tr>\n",
              "      <th>2</th>\n",
              "      <td>2000-01-05</td>\n",
              "      <td>0</td>\n",
              "      <td>Coventry caught on counter by Flo</td>\n",
              "      <td>United's rivals on the road to Rio</td>\n",
              "      <td>Thatcher issues defence before trial by video</td>\n",
              "      <td>Police help Smith lay down the law at Everton</td>\n",
              "      <td>Tale of Trautmann bears two more retellings</td>\n",
              "      <td>England on the rack</td>\n",
              "      <td>Pakistan retaliate with call for video of Walsh</td>\n",
              "      <td>Cullinan continues his Cape monopoly</td>\n",
              "      <td>McGrath puts India out of their misery</td>\n",
              "      <td>Blair Witch bandwagon rolls on</td>\n",
              "      <td>Pele turns up heat on Ferguson</td>\n",
              "      <td>Party divided over Kohl slush fund scandal</td>\n",
              "      <td>Manchester United (England)</td>\n",
              "      <td>Women in record South Pole walk</td>\n",
              "      <td>Vasco da Gama (Brazil)</td>\n",
              "      <td>South Melbourne (Australia)</td>\n",
              "      <td>Necaxa (Mexico)</td>\n",
              "      <td>Real Madrid (Spain)</td>\n",
              "      <td>Raja Casablanca (Morocco)</td>\n",
              "      <td>Corinthians (Brazil)</td>\n",
              "      <td>Tony's pet project</td>\n",
              "      <td>Al Nassr (Saudi Arabia)</td>\n",
              "      <td>Ideal Holmes show</td>\n",
              "      <td>Pinochet leaves hospital after tests</td>\n",
              "      <td>Useful links</td>\n",
              "    </tr>\n",
              "    <tr>\n",
              "      <th>3</th>\n",
              "      <td>2000-01-06</td>\n",
              "      <td>1</td>\n",
              "      <td>Pilgrim knows how to progress</td>\n",
              "      <td>Thatcher facing ban</td>\n",
              "      <td>McIlroy calls for Irish fighting spirit</td>\n",
              "      <td>Leicester bin stadium blueprint</td>\n",
              "      <td>United braced for Mexican wave</td>\n",
              "      <td>Auntie back in fashion, even if the dress look...</td>\n",
              "      <td>Shoaib appeal goes to the top</td>\n",
              "      <td>Hussain hurt by 'shambles' but lays blame on e...</td>\n",
              "      <td>England's decade of disasters</td>\n",
              "      <td>Revenge is sweet for jubilant Cronje</td>\n",
              "      <td>Our choice, not theirs</td>\n",
              "      <td>Profile of former US Nazi Party officer Willia...</td>\n",
              "      <td>New evidence shows record of war crimes suspec...</td>\n",
              "      <td>The rise of the supernerds</td>\n",
              "      <td>Written on the body</td>\n",
              "      <td>Putin admits Yeltsin quit to give him a head s...</td>\n",
              "      <td>BBC worst hit as digital TV begins to bite</td>\n",
              "      <td>How much can you pay for...</td>\n",
              "      <td>Christmas glitches</td>\n",
              "      <td>Upending a table, Chopping a line and Scoring ...</td>\n",
              "      <td>Scientific evidence 'unreliable', defence claims</td>\n",
              "      <td>Fusco wins judicial review in extradition case</td>\n",
              "      <td>Rebels thwart Russian advance</td>\n",
              "      <td>Blair orders shake-up of failing NHS</td>\n",
              "      <td>Lessons of law's hard heart</td>\n",
              "    </tr>\n",
              "    <tr>\n",
              "      <th>4</th>\n",
              "      <td>2000-01-07</td>\n",
              "      <td>1</td>\n",
              "      <td>Hitches and Horlocks</td>\n",
              "      <td>Beckham off but United survive</td>\n",
              "      <td>Breast cancer screening</td>\n",
              "      <td>Alan Parker</td>\n",
              "      <td>Guardian readers: are you all whingers?</td>\n",
              "      <td>Hollywood Beyond</td>\n",
              "      <td>Ashes and diamonds</td>\n",
              "      <td>Whingers - a formidable minority</td>\n",
              "      <td>Alan Parker - part two</td>\n",
              "      <td>Thuggery, Toxins and Ties</td>\n",
              "      <td>Met faces fresh attack on race crime</td>\n",
              "      <td>Everton fans top racist 'league of shame'</td>\n",
              "      <td>Our breasts, ourselves</td>\n",
              "      <td>Russia's new boss has an extremely strange his...</td>\n",
              "      <td>Always and forever</td>\n",
              "      <td>Most everywhere:  UDIs</td>\n",
              "      <td>Most wanted:  Chloe lunettes</td>\n",
              "      <td>Return of the cane 'completely off the agenda'</td>\n",
              "      <td>From Sleepy Hollow to Greeneland</td>\n",
              "      <td>Blunkett outlines vision for over 11s</td>\n",
              "      <td>Embattled Dobson attacks 'play now, pay later'...</td>\n",
              "      <td>Doom and the Dome</td>\n",
              "      <td>What is the north-south divide?</td>\n",
              "      <td>Aitken released from jail</td>\n",
              "      <td>Gone aloft</td>\n",
              "    </tr>\n",
              "  </tbody>\n",
              "</table>\n",
              "</div>"
            ],
            "text/plain": [
              "         Date  ...                         Top25\n",
              "0  2000-01-03  ...            Recovering a title\n",
              "1  2000-01-04  ...  Millennium bug fails to bite\n",
              "2  2000-01-05  ...                  Useful links\n",
              "3  2000-01-06  ...   Lessons of law's hard heart\n",
              "4  2000-01-07  ...                    Gone aloft\n",
              "\n",
              "[5 rows x 27 columns]"
            ]
          },
          "metadata": {
            "tags": []
          },
          "execution_count": 45
        }
      ]
    },
    {
      "cell_type": "code",
      "metadata": {
        "id": "SPBRqdM5m7Us"
      },
      "source": [
        "train = df[df['Date'] < '20150101']\r\n",
        "test = df[df['Date'] > '20141231']"
      ],
      "execution_count": null,
      "outputs": []
    },
    {
      "cell_type": "markdown",
      "metadata": {
        "id": "SNgY8i4RnNPa"
      },
      "source": [
        "# Preprocessing steps are involved in this task\r\n"
      ]
    },
    {
      "cell_type": "code",
      "metadata": {
        "colab": {
          "base_uri": "https://localhost:8080/",
          "height": 768
        },
        "id": "w9UYO6UlnKYP",
        "outputId": "8e305bd2-51c5-4f37-a56f-a7c2a45e88ad"
      },
      "source": [
        "data=train.iloc[:,2:27]\r\n",
        "data.replace(\"[^a-zA-Z]\",\" \",regex=True, inplace=True)\r\n",
        "\r\n",
        "# Renaming column names for ease of access\r\n",
        "list1= [i for i in range(25)]\r\n",
        "new_Index=[str(i) for i in list1]\r\n",
        "data.columns= new_Index\r\n",
        "data.head(5)"
      ],
      "execution_count": null,
      "outputs": [
        {
          "output_type": "execute_result",
          "data": {
            "text/html": [
              "<div>\n",
              "<style scoped>\n",
              "    .dataframe tbody tr th:only-of-type {\n",
              "        vertical-align: middle;\n",
              "    }\n",
              "\n",
              "    .dataframe tbody tr th {\n",
              "        vertical-align: top;\n",
              "    }\n",
              "\n",
              "    .dataframe thead th {\n",
              "        text-align: right;\n",
              "    }\n",
              "</style>\n",
              "<table border=\"1\" class=\"dataframe\">\n",
              "  <thead>\n",
              "    <tr style=\"text-align: right;\">\n",
              "      <th></th>\n",
              "      <th>0</th>\n",
              "      <th>1</th>\n",
              "      <th>2</th>\n",
              "      <th>3</th>\n",
              "      <th>4</th>\n",
              "      <th>5</th>\n",
              "      <th>6</th>\n",
              "      <th>7</th>\n",
              "      <th>8</th>\n",
              "      <th>9</th>\n",
              "      <th>10</th>\n",
              "      <th>11</th>\n",
              "      <th>12</th>\n",
              "      <th>13</th>\n",
              "      <th>14</th>\n",
              "      <th>15</th>\n",
              "      <th>16</th>\n",
              "      <th>17</th>\n",
              "      <th>18</th>\n",
              "      <th>19</th>\n",
              "      <th>20</th>\n",
              "      <th>21</th>\n",
              "      <th>22</th>\n",
              "      <th>23</th>\n",
              "      <th>24</th>\n",
              "    </tr>\n",
              "  </thead>\n",
              "  <tbody>\n",
              "    <tr>\n",
              "      <th>0</th>\n",
              "      <td>A  hindrance to operations   extracts from the...</td>\n",
              "      <td>Scorecard</td>\n",
              "      <td>Hughes  instant hit buoys Blues</td>\n",
              "      <td>Jack gets his skates on at ice cold Alex</td>\n",
              "      <td>Chaos as Maracana builds up for United</td>\n",
              "      <td>Depleted Leicester prevail as Elliott spoils E...</td>\n",
              "      <td>Hungry Spurs sense rich pickings</td>\n",
              "      <td>Gunners so wide of an easy target</td>\n",
              "      <td>Derby raise a glass to Strupar s debut double</td>\n",
              "      <td>Southgate strikes  Leeds pay the penalty</td>\n",
              "      <td>Hammers hand Robson a youthful lesson</td>\n",
              "      <td>Saints party like it s</td>\n",
              "      <td>Wear wolves have turned into lambs</td>\n",
              "      <td>Stump mike catches testy Gough s taunt</td>\n",
              "      <td>Langer escapes to hit</td>\n",
              "      <td>Flintoff injury piles on woe for England</td>\n",
              "      <td>Hunters threaten Jospin with new battle of the...</td>\n",
              "      <td>Kohl s successor drawn into scandal</td>\n",
              "      <td>The difference between men and women</td>\n",
              "      <td>Sara Denver  nurse turned solicitor</td>\n",
              "      <td>Diana s landmine crusade put Tories in a panic</td>\n",
              "      <td>Yeltsin s resignation caught opposition flat f...</td>\n",
              "      <td>Russian roulette</td>\n",
              "      <td>Sold out</td>\n",
              "      <td>Recovering a title</td>\n",
              "    </tr>\n",
              "    <tr>\n",
              "      <th>1</th>\n",
              "      <td>Scorecard</td>\n",
              "      <td>The best lake scene</td>\n",
              "      <td>Leader  German sleaze inquiry</td>\n",
              "      <td>Cheerio  boyo</td>\n",
              "      <td>The main recommendations</td>\n",
              "      <td>Has Cubie killed fees</td>\n",
              "      <td>Has Cubie killed fees</td>\n",
              "      <td>Has Cubie killed fees</td>\n",
              "      <td>Hopkins  furious  at Foster s lack of Hannibal...</td>\n",
              "      <td>Has Cubie killed fees</td>\n",
              "      <td>A tale of two tails</td>\n",
              "      <td>I say what I like and I like what I say</td>\n",
              "      <td>Elbows  Eyes and Nipples</td>\n",
              "      <td>Task force to assess risk of asteroid collision</td>\n",
              "      <td>How I found myself at last</td>\n",
              "      <td>On the critical list</td>\n",
              "      <td>The timing of their lives</td>\n",
              "      <td>Dear doctor</td>\n",
              "      <td>Irish court halts IRA man s extradition to Nor...</td>\n",
              "      <td>Burundi peace initiative fades after rebels re...</td>\n",
              "      <td>PE points the way forward to the ECB</td>\n",
              "      <td>Campaigners keep up pressure on Nazi war crime...</td>\n",
              "      <td>Jane Ratcliffe</td>\n",
              "      <td>Yet more things you wouldn t know without the ...</td>\n",
              "      <td>Millennium bug fails to bite</td>\n",
              "    </tr>\n",
              "    <tr>\n",
              "      <th>2</th>\n",
              "      <td>Coventry caught on counter by Flo</td>\n",
              "      <td>United s rivals on the road to Rio</td>\n",
              "      <td>Thatcher issues defence before trial by video</td>\n",
              "      <td>Police help Smith lay down the law at Everton</td>\n",
              "      <td>Tale of Trautmann bears two more retellings</td>\n",
              "      <td>England on the rack</td>\n",
              "      <td>Pakistan retaliate with call for video of Walsh</td>\n",
              "      <td>Cullinan continues his Cape monopoly</td>\n",
              "      <td>McGrath puts India out of their misery</td>\n",
              "      <td>Blair Witch bandwagon rolls on</td>\n",
              "      <td>Pele turns up heat on Ferguson</td>\n",
              "      <td>Party divided over Kohl slush fund scandal</td>\n",
              "      <td>Manchester United  England</td>\n",
              "      <td>Women in record South Pole walk</td>\n",
              "      <td>Vasco da Gama  Brazil</td>\n",
              "      <td>South Melbourne  Australia</td>\n",
              "      <td>Necaxa  Mexico</td>\n",
              "      <td>Real Madrid  Spain</td>\n",
              "      <td>Raja Casablanca  Morocco</td>\n",
              "      <td>Corinthians  Brazil</td>\n",
              "      <td>Tony s pet project</td>\n",
              "      <td>Al Nassr  Saudi Arabia</td>\n",
              "      <td>Ideal Holmes show</td>\n",
              "      <td>Pinochet leaves hospital after tests</td>\n",
              "      <td>Useful links</td>\n",
              "    </tr>\n",
              "    <tr>\n",
              "      <th>3</th>\n",
              "      <td>Pilgrim knows how to progress</td>\n",
              "      <td>Thatcher facing ban</td>\n",
              "      <td>McIlroy calls for Irish fighting spirit</td>\n",
              "      <td>Leicester bin stadium blueprint</td>\n",
              "      <td>United braced for Mexican wave</td>\n",
              "      <td>Auntie back in fashion  even if the dress look...</td>\n",
              "      <td>Shoaib appeal goes to the top</td>\n",
              "      <td>Hussain hurt by  shambles  but lays blame on e...</td>\n",
              "      <td>England s decade of disasters</td>\n",
              "      <td>Revenge is sweet for jubilant Cronje</td>\n",
              "      <td>Our choice  not theirs</td>\n",
              "      <td>Profile of former US Nazi Party officer Willia...</td>\n",
              "      <td>New evidence shows record of war crimes suspec...</td>\n",
              "      <td>The rise of the supernerds</td>\n",
              "      <td>Written on the body</td>\n",
              "      <td>Putin admits Yeltsin quit to give him a head s...</td>\n",
              "      <td>BBC worst hit as digital TV begins to bite</td>\n",
              "      <td>How much can you pay for</td>\n",
              "      <td>Christmas glitches</td>\n",
              "      <td>Upending a table  Chopping a line and Scoring ...</td>\n",
              "      <td>Scientific evidence  unreliable   defence claims</td>\n",
              "      <td>Fusco wins judicial review in extradition case</td>\n",
              "      <td>Rebels thwart Russian advance</td>\n",
              "      <td>Blair orders shake up of failing NHS</td>\n",
              "      <td>Lessons of law s hard heart</td>\n",
              "    </tr>\n",
              "    <tr>\n",
              "      <th>4</th>\n",
              "      <td>Hitches and Horlocks</td>\n",
              "      <td>Beckham off but United survive</td>\n",
              "      <td>Breast cancer screening</td>\n",
              "      <td>Alan Parker</td>\n",
              "      <td>Guardian readers  are you all whingers</td>\n",
              "      <td>Hollywood Beyond</td>\n",
              "      <td>Ashes and diamonds</td>\n",
              "      <td>Whingers   a formidable minority</td>\n",
              "      <td>Alan Parker   part two</td>\n",
              "      <td>Thuggery  Toxins and Ties</td>\n",
              "      <td>Met faces fresh attack on race crime</td>\n",
              "      <td>Everton fans top racist  league of shame</td>\n",
              "      <td>Our breasts  ourselves</td>\n",
              "      <td>Russia s new boss has an extremely strange his...</td>\n",
              "      <td>Always and forever</td>\n",
              "      <td>Most everywhere   UDIs</td>\n",
              "      <td>Most wanted   Chloe lunettes</td>\n",
              "      <td>Return of the cane  completely off the agenda</td>\n",
              "      <td>From Sleepy Hollow to Greeneland</td>\n",
              "      <td>Blunkett outlines vision for over   s</td>\n",
              "      <td>Embattled Dobson attacks  play now  pay later ...</td>\n",
              "      <td>Doom and the Dome</td>\n",
              "      <td>What is the north south divide</td>\n",
              "      <td>Aitken released from jail</td>\n",
              "      <td>Gone aloft</td>\n",
              "    </tr>\n",
              "  </tbody>\n",
              "</table>\n",
              "</div>"
            ],
            "text/plain": [
              "                                                   0  ...                            24\n",
              "0  A  hindrance to operations   extracts from the...  ...            Recovering a title\n",
              "1                                          Scorecard  ...  Millennium bug fails to bite\n",
              "2                  Coventry caught on counter by Flo  ...                  Useful links\n",
              "3                      Pilgrim knows how to progress  ...   Lessons of law s hard heart\n",
              "4                               Hitches and Horlocks  ...                    Gone aloft\n",
              "\n",
              "[5 rows x 25 columns]"
            ]
          },
          "metadata": {
            "tags": []
          },
          "execution_count": 47
        }
      ]
    },
    {
      "cell_type": "markdown",
      "metadata": {
        "id": "N2X0Rzaznr4Q"
      },
      "source": [
        "## Converting the headlines into lower case"
      ]
    },
    {
      "cell_type": "code",
      "metadata": {
        "colab": {
          "base_uri": "https://localhost:8080/",
          "height": 219
        },
        "id": "wZPzy94bnlVx",
        "outputId": "19d60c10-ad3c-4103-94b6-45fccb4528f3"
      },
      "source": [
        "for index in new_Index:\r\n",
        "    data[index]=data[index].str.lower()\r\n",
        "data.head(1)"
      ],
      "execution_count": null,
      "outputs": [
        {
          "output_type": "execute_result",
          "data": {
            "text/html": [
              "<div>\n",
              "<style scoped>\n",
              "    .dataframe tbody tr th:only-of-type {\n",
              "        vertical-align: middle;\n",
              "    }\n",
              "\n",
              "    .dataframe tbody tr th {\n",
              "        vertical-align: top;\n",
              "    }\n",
              "\n",
              "    .dataframe thead th {\n",
              "        text-align: right;\n",
              "    }\n",
              "</style>\n",
              "<table border=\"1\" class=\"dataframe\">\n",
              "  <thead>\n",
              "    <tr style=\"text-align: right;\">\n",
              "      <th></th>\n",
              "      <th>0</th>\n",
              "      <th>1</th>\n",
              "      <th>2</th>\n",
              "      <th>3</th>\n",
              "      <th>4</th>\n",
              "      <th>5</th>\n",
              "      <th>6</th>\n",
              "      <th>7</th>\n",
              "      <th>8</th>\n",
              "      <th>9</th>\n",
              "      <th>10</th>\n",
              "      <th>11</th>\n",
              "      <th>12</th>\n",
              "      <th>13</th>\n",
              "      <th>14</th>\n",
              "      <th>15</th>\n",
              "      <th>16</th>\n",
              "      <th>17</th>\n",
              "      <th>18</th>\n",
              "      <th>19</th>\n",
              "      <th>20</th>\n",
              "      <th>21</th>\n",
              "      <th>22</th>\n",
              "      <th>23</th>\n",
              "      <th>24</th>\n",
              "    </tr>\n",
              "  </thead>\n",
              "  <tbody>\n",
              "    <tr>\n",
              "      <th>0</th>\n",
              "      <td>a  hindrance to operations   extracts from the...</td>\n",
              "      <td>scorecard</td>\n",
              "      <td>hughes  instant hit buoys blues</td>\n",
              "      <td>jack gets his skates on at ice cold alex</td>\n",
              "      <td>chaos as maracana builds up for united</td>\n",
              "      <td>depleted leicester prevail as elliott spoils e...</td>\n",
              "      <td>hungry spurs sense rich pickings</td>\n",
              "      <td>gunners so wide of an easy target</td>\n",
              "      <td>derby raise a glass to strupar s debut double</td>\n",
              "      <td>southgate strikes  leeds pay the penalty</td>\n",
              "      <td>hammers hand robson a youthful lesson</td>\n",
              "      <td>saints party like it s</td>\n",
              "      <td>wear wolves have turned into lambs</td>\n",
              "      <td>stump mike catches testy gough s taunt</td>\n",
              "      <td>langer escapes to hit</td>\n",
              "      <td>flintoff injury piles on woe for england</td>\n",
              "      <td>hunters threaten jospin with new battle of the...</td>\n",
              "      <td>kohl s successor drawn into scandal</td>\n",
              "      <td>the difference between men and women</td>\n",
              "      <td>sara denver  nurse turned solicitor</td>\n",
              "      <td>diana s landmine crusade put tories in a panic</td>\n",
              "      <td>yeltsin s resignation caught opposition flat f...</td>\n",
              "      <td>russian roulette</td>\n",
              "      <td>sold out</td>\n",
              "      <td>recovering a title</td>\n",
              "    </tr>\n",
              "  </tbody>\n",
              "</table>\n",
              "</div>"
            ],
            "text/plain": [
              "                                                   0  ...                  24\n",
              "0  a  hindrance to operations   extracts from the...  ...  recovering a title\n",
              "\n",
              "[1 rows x 25 columns]"
            ]
          },
          "metadata": {
            "tags": []
          },
          "execution_count": 48
        }
      ]
    },
    {
      "cell_type": "markdown",
      "metadata": {
        "id": "fKi7tZEwn0t2"
      },
      "source": [
        "## Convert all data in single paragraph"
      ]
    },
    {
      "cell_type": "code",
      "metadata": {
        "colab": {
          "base_uri": "https://localhost:8080/",
          "height": 103
        },
        "id": "5GYXBThOnwQ1",
        "outputId": "17f229ef-df47-4e16-a282-6f71b1b4daed"
      },
      "source": [
        "' '.join(str(x) for x in data.iloc[1,0:25])"
      ],
      "execution_count": null,
      "outputs": [
        {
          "output_type": "execute_result",
          "data": {
            "application/vnd.google.colaboratory.intrinsic+json": {
              "type": "string"
            },
            "text/plain": [
              "'scorecard the best lake scene leader  german sleaze inquiry cheerio  boyo the main recommendations has cubie killed fees  has cubie killed fees  has cubie killed fees  hopkins  furious  at foster s lack of hannibal appetite has cubie killed fees  a tale of two tails i say what i like and i like what i say elbows  eyes and nipples task force to assess risk of asteroid collision how i found myself at last on the critical list the timing of their lives dear doctor irish court halts ira man s extradition to northern ireland burundi peace initiative fades after rebels reject mandela as mediator pe points the way forward to the ecb campaigners keep up pressure on nazi war crimes suspect jane ratcliffe yet more things you wouldn t know without the movies millennium bug fails to bite'"
            ]
          },
          "metadata": {
            "tags": []
          },
          "execution_count": 49
        }
      ]
    },
    {
      "cell_type": "code",
      "metadata": {
        "id": "eR29FEgfn3rw"
      },
      "source": [
        "headlines = []\r\n",
        "for row in range(0,len(data.index)):\r\n",
        "    headlines.append(' '.join(str(x) for x in data.iloc[row,0:25]))"
      ],
      "execution_count": null,
      "outputs": []
    },
    {
      "cell_type": "code",
      "metadata": {
        "colab": {
          "base_uri": "https://localhost:8080/",
          "height": 120
        },
        "id": "fIAb8l0Gn7is",
        "outputId": "e60918e6-1a5b-4bfc-eea9-6e73ec7744d1"
      },
      "source": [
        "headlines[0]"
      ],
      "execution_count": null,
      "outputs": [
        {
          "output_type": "execute_result",
          "data": {
            "application/vnd.google.colaboratory.intrinsic+json": {
              "type": "string"
            },
            "text/plain": [
              "'a  hindrance to operations   extracts from the leaked reports scorecard hughes  instant hit buoys blues jack gets his skates on at ice cold alex chaos as maracana builds up for united depleted leicester prevail as elliott spoils everton s party hungry spurs sense rich pickings gunners so wide of an easy target derby raise a glass to strupar s debut double southgate strikes  leeds pay the penalty hammers hand robson a youthful lesson saints party like it s      wear wolves have turned into lambs stump mike catches testy gough s taunt langer escapes to hit     flintoff injury piles on woe for england hunters threaten jospin with new battle of the somme kohl s successor drawn into scandal the difference between men and women sara denver  nurse turned solicitor diana s landmine crusade put tories in a panic yeltsin s resignation caught opposition flat footed russian roulette sold out recovering a title'"
            ]
          },
          "metadata": {
            "tags": []
          },
          "execution_count": 51
        }
      ]
    },
    {
      "cell_type": "markdown",
      "metadata": {
        "id": "A00MRQGhoA7p"
      },
      "source": [
        "## Apply CountVectorizer and Randomforest classifier\r\n"
      ]
    },
    {
      "cell_type": "code",
      "metadata": {
        "id": "v-e5gwkxn9_k"
      },
      "source": [
        "from sklearn.feature_extraction.text import CountVectorizer\r\n",
        "from sklearn.ensemble import RandomForestClassifier"
      ],
      "execution_count": null,
      "outputs": []
    },
    {
      "cell_type": "markdown",
      "metadata": {
        "id": "6pPaCzb9oJJv"
      },
      "source": [
        "## Apply Bag of words"
      ]
    },
    {
      "cell_type": "code",
      "metadata": {
        "id": "A2J-TKlHoGn7"
      },
      "source": [
        "countvector=CountVectorizer(ngram_range=(2,2))\r\n",
        "traindataset=countvector.fit_transform(headlines)"
      ],
      "execution_count": null,
      "outputs": []
    },
    {
      "cell_type": "markdown",
      "metadata": {
        "id": "jfrJLCHnoQQJ"
      },
      "source": [
        "## Apply RandomForest Classifier"
      ]
    },
    {
      "cell_type": "code",
      "metadata": {
        "colab": {
          "base_uri": "https://localhost:8080/"
        },
        "id": "5f3NDgARoOsP",
        "outputId": "ba8d5e86-5537-4cf8-dbcf-81f7645c0881"
      },
      "source": [
        "randomclassifier=RandomForestClassifier(n_estimators=200,criterion='entropy')\r\n",
        "randomclassifier.fit(traindataset,train['Label'])"
      ],
      "execution_count": null,
      "outputs": [
        {
          "output_type": "execute_result",
          "data": {
            "text/plain": [
              "RandomForestClassifier(bootstrap=True, ccp_alpha=0.0, class_weight=None,\n",
              "                       criterion='entropy', max_depth=None, max_features='auto',\n",
              "                       max_leaf_nodes=None, max_samples=None,\n",
              "                       min_impurity_decrease=0.0, min_impurity_split=None,\n",
              "                       min_samples_leaf=1, min_samples_split=2,\n",
              "                       min_weight_fraction_leaf=0.0, n_estimators=200,\n",
              "                       n_jobs=None, oob_score=False, random_state=None,\n",
              "                       verbose=0, warm_start=False)"
            ]
          },
          "metadata": {
            "tags": []
          },
          "execution_count": 54
        }
      ]
    },
    {
      "cell_type": "markdown",
      "metadata": {
        "id": "n5fe6F4FoWk1"
      },
      "source": [
        "## Prediction"
      ]
    },
    {
      "cell_type": "code",
      "metadata": {
        "id": "IcfwZMA6oTZ8"
      },
      "source": [
        "test_transform= []\r\n",
        "for row in range(0,len(test.index)):\r\n",
        "    test_transform.append(' '.join(str(x) for x in test.iloc[row,2:27]))\r\n",
        "test_dataset = countvector.transform(test_transform)\r\n",
        "predictions = randomclassifier.predict(test_dataset)"
      ],
      "execution_count": null,
      "outputs": []
    },
    {
      "cell_type": "markdown",
      "metadata": {
        "id": "rHqDwPsFod6N"
      },
      "source": [
        "## Evaluate the Model"
      ]
    },
    {
      "cell_type": "code",
      "metadata": {
        "id": "MgcSbvMzohFN"
      },
      "source": [
        "from sklearn.metrics import classification_report,confusion_matrix,accuracy_score"
      ],
      "execution_count": null,
      "outputs": []
    },
    {
      "cell_type": "markdown",
      "metadata": {
        "id": "iWbZ8VeKojoX"
      },
      "source": [
        "## Confusion Matrix"
      ]
    },
    {
      "cell_type": "code",
      "metadata": {
        "colab": {
          "base_uri": "https://localhost:8080/"
        },
        "id": "XmrLRhriook7",
        "outputId": "7f34f327-c6fb-497d-ef37-4dd934912c2d"
      },
      "source": [
        "matrix=confusion_matrix(test['Label'],predictions)\r\n",
        "print(matrix)"
      ],
      "execution_count": null,
      "outputs": [
        {
          "output_type": "stream",
          "text": [
            "[[137  49]\n",
            " [  7 185]]\n"
          ],
          "name": "stdout"
        }
      ]
    },
    {
      "cell_type": "markdown",
      "metadata": {
        "id": "tW2wQD_1ouM4"
      },
      "source": [
        "## Accuracy Score"
      ]
    },
    {
      "cell_type": "code",
      "metadata": {
        "colab": {
          "base_uri": "https://localhost:8080/"
        },
        "id": "rWh1nJ2for0H",
        "outputId": "60be3f1a-25ba-4e57-a275-733f46892102"
      },
      "source": [
        "score=accuracy_score(test['Label'],predictions)\r\n",
        "print(score*100)"
      ],
      "execution_count": null,
      "outputs": [
        {
          "output_type": "stream",
          "text": [
            "85.18518518518519\n"
          ],
          "name": "stdout"
        }
      ]
    },
    {
      "cell_type": "markdown",
      "metadata": {
        "id": "PcnBZEp2oy4j"
      },
      "source": [
        "## Classification report"
      ]
    },
    {
      "cell_type": "code",
      "metadata": {
        "colab": {
          "base_uri": "https://localhost:8080/"
        },
        "id": "zKLHnj6koyGH",
        "outputId": "0ed09ed9-86f4-41dd-c8c9-ad188fd8da54"
      },
      "source": [
        "report=classification_report(test['Label'],predictions)\r\n",
        "print(report)"
      ],
      "execution_count": null,
      "outputs": [
        {
          "output_type": "stream",
          "text": [
            "              precision    recall  f1-score   support\n",
            "\n",
            "           0       0.95      0.74      0.83       186\n",
            "           1       0.79      0.96      0.87       192\n",
            "\n",
            "    accuracy                           0.85       378\n",
            "   macro avg       0.87      0.85      0.85       378\n",
            "weighted avg       0.87      0.85      0.85       378\n",
            "\n"
          ],
          "name": "stdout"
        }
      ]
    },
    {
      "cell_type": "code",
      "metadata": {
        "id": "A2g0ymafo5yj"
      },
      "source": [
        ""
      ],
      "execution_count": null,
      "outputs": []
    }
  ]
}